{
  "nbformat": 4,
  "nbformat_minor": 0,
  "metadata": {
    "colab": {
      "name": "Jesus_Guzman_koe836_Homework3.ipynb",
      "provenance": [],
      "machine_shape": "hm"
    },
    "kernelspec": {
      "name": "python3",
      "display_name": "Python 3"
    }
  },
  "cells": [
    {
      "cell_type": "code",
      "metadata": {
        "id": "cWNOvTCpM1bi",
        "colab_type": "code",
        "outputId": "f04b36fb-1580-4222-8076-907601cc8df0",
        "colab": {
          "base_uri": "https://localhost:8080/",
          "height": 34
        }
      },
      "source": [
        "import numpy as np\n",
        "import pandas as pd\n",
        "import matplotlib.pyplot as plt\n",
        "import tensorflow as tf \n",
        "from tensorflow import keras\n",
        "from tensorflow.keras.datasets import imdb\n",
        "from tensorflow.keras import models, layers, optimizers\n",
        "from keras.models import Sequential\n",
        "from keras.losses import mean_squared_error\n",
        "from sklearn import preprocessing\n",
        "from sklearn.model_selection import train_test_split, cross_val_score, cross_validate"
      ],
      "execution_count": 0,
      "outputs": [
        {
          "output_type": "stream",
          "text": [
            "Using TensorFlow backend.\n"
          ],
          "name": "stderr"
        }
      ]
    },
    {
      "cell_type": "markdown",
      "metadata": {
        "id": "dZih1JmQNDgg",
        "colab_type": "text"
      },
      "source": [
        "Problem 1"
      ]
    },
    {
      "cell_type": "code",
      "metadata": {
        "id": "vxWUq9SoNB_E",
        "colab_type": "code",
        "colab": {}
      },
      "source": [
        "(train_data, train_labels), (test_data, test_labels) = imdb.load_data(num_words=10000)"
      ],
      "execution_count": 0,
      "outputs": []
    },
    {
      "cell_type": "code",
      "metadata": {
        "id": "YSyYb_pDPABU",
        "colab_type": "code",
        "outputId": "21961a0b-7178-4c69-e83f-f10fdc6461de",
        "colab": {
          "base_uri": "https://localhost:8080/",
          "height": 34
        }
      },
      "source": [
        "train_data[0][:10]"
      ],
      "execution_count": 0,
      "outputs": [
        {
          "output_type": "execute_result",
          "data": {
            "text/plain": [
              "[1, 14, 22, 16, 43, 530, 973, 1622, 1385, 65]"
            ]
          },
          "metadata": {
            "tags": []
          },
          "execution_count": 3
        }
      ]
    },
    {
      "cell_type": "code",
      "metadata": {
        "id": "YBkjUyOQxuq1",
        "colab_type": "code",
        "colab": {}
      },
      "source": [
        "def vectorize_sequences(sequences, dimension=10000):\n",
        "# Create an all-zero matrix of shape (len(sequences), dimension)\n",
        "    results = np.zeros((len(sequences), dimension))\n",
        "    for i, sequence in enumerate(sequences):\n",
        "        results[i, sequence] = 1.  # set specific indices of results[i] to 1s\n",
        "    return results\n",
        "# Our vectorized training data\n",
        "x_train = vectorize_sequences(train_data)\n",
        "# Our vectorized test data\n",
        "x_test = vectorize_sequences(test_data)"
      ],
      "execution_count": 0,
      "outputs": []
    },
    {
      "cell_type": "code",
      "metadata": {
        "id": "5OAcW9i7x2rb",
        "colab_type": "code",
        "colab": {}
      },
      "source": [
        "# Our vectorized labels\n",
        "y_train = np.asarray(train_labels).astype('float32')\n",
        "y_test = np.asarray(test_labels).astype('float32')"
      ],
      "execution_count": 0,
      "outputs": []
    },
    {
      "cell_type": "code",
      "metadata": {
        "id": "WhHqrpJWS800",
        "colab_type": "code",
        "colab": {}
      },
      "source": [
        "model = models.Sequential()\n",
        "model.add(layers.Dense(16, activation='relu', input_shape=(10000,)))\n",
        "model.add(layers.Dense(16, activation='relu'))\n",
        "model.add(layers.Dense(1, activation='sigmoid'))\n"
      ],
      "execution_count": 0,
      "outputs": []
    },
    {
      "cell_type": "code",
      "metadata": {
        "id": "ma1k8_nJS8rU",
        "colab_type": "code",
        "colab": {}
      },
      "source": [
        "model.compile(optimizer='rmsprop',\n",
        "              loss='binary_crossentropy',\n",
        "              metrics=['accuracy'])"
      ],
      "execution_count": 0,
      "outputs": []
    },
    {
      "cell_type": "code",
      "metadata": {
        "id": "lIonsKoXTgz-",
        "colab_type": "code",
        "outputId": "18052c90-696a-43a1-fe7a-2c223c852ac3",
        "colab": {
          "base_uri": "https://localhost:8080/",
          "height": 34
        }
      },
      "source": [
        "model.fit(x_train, y_train, epochs=5, batch_size=512, verbose = 0)\n",
        "results = model.evaluate(x_test, y_test)"
      ],
      "execution_count": 0,
      "outputs": [
        {
          "output_type": "stream",
          "text": [
            "782/782 [==============================] - 1s 1ms/step - loss: 0.3190 - accuracy: 0.8776\n"
          ],
          "name": "stdout"
        }
      ]
    },
    {
      "cell_type": "markdown",
      "metadata": {
        "id": "29y7ggp6S9XZ",
        "colab_type": "text"
      },
      "source": [
        "#1)"
      ]
    },
    {
      "cell_type": "code",
      "metadata": {
        "id": "v1gqxYOt2YBu",
        "colab_type": "code",
        "colab": {}
      },
      "source": [
        "model = models.Sequential()\n",
        "model.add(layers.Dense(16, activation='relu', input_shape=(10000,)))\n",
        "model.add(layers.Dense(16, activation='relu'))\n",
        "model.add(layers.Dense(16, activation='relu'))\n",
        "model.add(layers.Dense(1, activation='sigmoid'))"
      ],
      "execution_count": 0,
      "outputs": []
    },
    {
      "cell_type": "code",
      "metadata": {
        "id": "XvUcuoTY2qin",
        "colab_type": "code",
        "colab": {}
      },
      "source": [
        "model.compile(optimizer='rmsprop',\n",
        "              loss='binary_crossentropy',\n",
        "              metrics=['accuracy'])"
      ],
      "execution_count": 0,
      "outputs": []
    },
    {
      "cell_type": "code",
      "metadata": {
        "id": "bcgiuYqq86MF",
        "colab_type": "code",
        "outputId": "2a4a24a8-df05-4e19-e039-53eb0e02f648",
        "colab": {
          "base_uri": "https://localhost:8080/",
          "height": 34
        }
      },
      "source": [
        "model.fit(x_train, y_train, epochs=5, batch_size=512, verbose = 0)\n",
        "results = model.evaluate(x_test, y_test)"
      ],
      "execution_count": 0,
      "outputs": [
        {
          "output_type": "stream",
          "text": [
            "782/782 [==============================] - 1s 1ms/step - loss: 0.3268 - accuracy: 0.8778\n"
          ],
          "name": "stdout"
        }
      ]
    },
    {
      "cell_type": "markdown",
      "metadata": {
        "id": "0B0qypugUOn7",
        "colab_type": "text"
      },
      "source": [
        "The neural network with 3 hidden layers, attained an accuracy that slightly increased from 0.8776 to 0.8778.The loss increased from 0.3190 to 0.3268. Training time remained the same, so the network with 3 hidden layers appears to be the better choice."
      ]
    },
    {
      "cell_type": "markdown",
      "metadata": {
        "id": "gRPCuBhLkPnt",
        "colab_type": "text"
      },
      "source": [
        "#2)"
      ]
    },
    {
      "cell_type": "code",
      "metadata": {
        "id": "9elggwAtPI7W",
        "colab_type": "code",
        "colab": {}
      },
      "source": [
        "model2 = models.Sequential()\n",
        "model2.add(layers.Dense(32, activation='relu', input_shape=(10000,)))\n",
        "model2.add(layers.Dense(32, activation='relu'))\n",
        "model2.add(layers.Dense(1, activation='sigmoid'))"
      ],
      "execution_count": 0,
      "outputs": []
    },
    {
      "cell_type": "code",
      "metadata": {
        "id": "2QL79IBKiv6Q",
        "colab_type": "code",
        "colab": {}
      },
      "source": [
        "model2.compile(optimizer='rmsprop',\n",
        "              loss='binary_crossentropy',\n",
        "              metrics=['accuracy'])"
      ],
      "execution_count": 0,
      "outputs": []
    },
    {
      "cell_type": "code",
      "metadata": {
        "id": "KxBxTBFwi5Ck",
        "colab_type": "code",
        "outputId": "a71bdf78-28d3-41e7-ba1d-4064dc59dd7f",
        "colab": {
          "base_uri": "https://localhost:8080/",
          "height": 34
        }
      },
      "source": [
        "model2.fit(x_train, y_train, epochs=5, batch_size=512, verbose = 0)\n",
        "results2 = model2.evaluate(x_test, y_test)"
      ],
      "execution_count": 0,
      "outputs": [
        {
          "output_type": "stream",
          "text": [
            "782/782 [==============================] - 1s 1ms/step - loss: 0.3413 - accuracy: 0.8738\n"
          ],
          "name": "stdout"
        }
      ]
    },
    {
      "cell_type": "code",
      "metadata": {
        "id": "f4nYeuRYc7xu",
        "colab_type": "code",
        "colab": {}
      },
      "source": [
        "model3 = models.Sequential()\n",
        "model3.add(layers.Dense(64, activation='relu', input_shape=(10000,)))\n",
        "model3.add(layers.Dense(64, activation='relu'))\n",
        "model3.add(layers.Dense(1, activation='sigmoid'))"
      ],
      "execution_count": 0,
      "outputs": []
    },
    {
      "cell_type": "code",
      "metadata": {
        "id": "o4V9nDFtkKSX",
        "colab_type": "code",
        "colab": {}
      },
      "source": [
        "model3.compile(optimizer='rmsprop',\n",
        "              loss='binary_crossentropy',\n",
        "              metrics=['accuracy'])"
      ],
      "execution_count": 0,
      "outputs": []
    },
    {
      "cell_type": "code",
      "metadata": {
        "id": "swwIjCYrkKmU",
        "colab_type": "code",
        "outputId": "5e70806b-433c-4f6f-b9c6-2b7a69ef3424",
        "colab": {
          "base_uri": "https://localhost:8080/",
          "height": 34
        }
      },
      "source": [
        "model3.fit(x_train, y_train, epochs=5, batch_size=512, verbose = 0)\n",
        "results3 = model3.evaluate(x_test, y_test)"
      ],
      "execution_count": 0,
      "outputs": [
        {
          "output_type": "stream",
          "text": [
            "782/782 [==============================] - 1s 2ms/step - loss: 0.3806 - accuracy: 0.8656\n"
          ],
          "name": "stdout"
        }
      ]
    },
    {
      "cell_type": "markdown",
      "metadata": {
        "id": "o15oumNtW-xp",
        "colab_type": "text"
      },
      "source": [
        "The fist model attained a better accuracy and loss score, than the model2 and model3. Model2 has the same number of hidden layers, but it has 32 hidden units. The accuracy decreased from .8776 to .8656. The loss increased from \n",
        ".3190 to .3806. The runtime was remained the same for model2, but it slightly increased for model3. Similar to the second model, model3 with 64 hidden units performed worse than the original."
      ]
    },
    {
      "cell_type": "markdown",
      "metadata": {
        "id": "Wkrh9xXswzrV",
        "colab_type": "text"
      },
      "source": [
        "#3)"
      ]
    },
    {
      "cell_type": "code",
      "metadata": {
        "id": "CpujgBFHnKfO",
        "colab_type": "code",
        "colab": {}
      },
      "source": [
        "model4= models.Sequential()\n",
        "model4.add(layers.Dense(16, activation='relu', input_shape=(10000,)))\n",
        "model4.add(layers.Dense(16, activation='relu'))\n",
        "model4.add(layers.Dense(1, activation='sigmoid'))"
      ],
      "execution_count": 0,
      "outputs": []
    },
    {
      "cell_type": "code",
      "metadata": {
        "id": "X_vipdCbk2Hj",
        "colab_type": "code",
        "colab": {}
      },
      "source": [
        "model4.compile(optimizer='rmsprop',\n",
        "              loss='mse',\n",
        "              metrics=['accuracy'])"
      ],
      "execution_count": 0,
      "outputs": []
    },
    {
      "cell_type": "code",
      "metadata": {
        "id": "fRFutenBlOzD",
        "colab_type": "code",
        "outputId": "a36a1816-fa3a-43a1-cb19-566e8283ae29",
        "colab": {
          "base_uri": "https://localhost:8080/",
          "height": 34
        }
      },
      "source": [
        "model4.fit(x_train, y_train, epochs=5, batch_size=512, verbose = 0)\n",
        "results4 = model4.evaluate(x_test, y_test)"
      ],
      "execution_count": 0,
      "outputs": [
        {
          "output_type": "stream",
          "text": [
            "782/782 [==============================] - 1s 1ms/step - loss: 0.0884 - accuracy: 0.8803\n"
          ],
          "name": "stdout"
        }
      ]
    },
    {
      "cell_type": "markdown",
      "metadata": {
        "id": "aHk60TN9XBmK",
        "colab_type": "text"
      },
      "source": [
        "Runtime is the same for this model and the original one. The loss is .0884 as compared to the first model with a loss of .3190. The accuracy is slighly better for the fourth model, since it change from .8776 to .8803. It seems that changing the loss to mse will help the model perform better."
      ]
    },
    {
      "cell_type": "markdown",
      "metadata": {
        "id": "ctClGWNOw3F0",
        "colab_type": "text"
      },
      "source": [
        "#4)"
      ]
    },
    {
      "cell_type": "code",
      "metadata": {
        "colab_type": "code",
        "id": "CrBTVZ_f7C7s",
        "colab": {}
      },
      "source": [
        "model5 = models.Sequential()\n",
        "model5.add(layers.Dense(16, activation='tanh', input_shape=(10000,)))\n",
        "model5.add(layers.Dense(16, activation='tanh'))\n",
        "model5.add(layers.Dense(1, activation='sigmoid'))"
      ],
      "execution_count": 0,
      "outputs": []
    },
    {
      "cell_type": "code",
      "metadata": {
        "colab_type": "code",
        "id": "uQqOh_ZD7C78",
        "colab": {}
      },
      "source": [
        "model5.compile(optimizer='rmsprop',\n",
        "              loss='binary_crossentropy',\n",
        "              metrics=['accuracy'])"
      ],
      "execution_count": 0,
      "outputs": []
    },
    {
      "cell_type": "code",
      "metadata": {
        "id": "rmiwBzxv5z_9",
        "colab_type": "code",
        "outputId": "db5b12f7-5960-4230-83c2-ccf8f1efe70b",
        "colab": {
          "base_uri": "https://localhost:8080/",
          "height": 34
        }
      },
      "source": [
        "model5.fit(x_train, y_train, epochs=5, batch_size=512, verbose = 0)\n",
        "results5 = model5.evaluate(x_test, y_test)"
      ],
      "execution_count": 0,
      "outputs": [
        {
          "output_type": "stream",
          "text": [
            "782/782 [==============================] - 1s 1ms/step - loss: 0.3456 - accuracy: 0.8741\n"
          ],
          "name": "stdout"
        }
      ]
    },
    {
      "cell_type": "markdown",
      "metadata": {
        "id": "AuizlTIIpUW9",
        "colab_type": "text"
      },
      "source": [
        "Runtime did not change from the first to the fifth model. Accuracy decreased from .8776 to .8741, and loss increased from .3190 to .3456. The first model outperforms this model."
      ]
    },
    {
      "cell_type": "markdown",
      "metadata": {
        "id": "Sbef98ZhQBnP",
        "colab_type": "text"
      },
      "source": [
        "Problem 2\n"
      ]
    },
    {
      "cell_type": "markdown",
      "metadata": {
        "id": "1vlXLDyAQGZy",
        "colab_type": "text"
      },
      "source": [
        "#1)"
      ]
    },
    {
      "cell_type": "code",
      "metadata": {
        "id": "_bwMO1UjQFBy",
        "colab_type": "code",
        "colab": {}
      },
      "source": [
        "car = pd.read_csv('http://archive.ics.uci.edu/ml/machine-learning-databases/auto-mpg/auto-mpg.data',\n",
        "                  sep =' ',\n",
        "                  na_values = '?',\n",
        "                  names = ['mpg', 'cylinders', 'displacement', 'horsepower', 'weight', 'acceleration', 'model_year', 'origin','car_name'],\n",
        "                  skipinitialspace = True,\n",
        "                  comment = '\\t')"
      ],
      "execution_count": 0,
      "outputs": []
    },
    {
      "cell_type": "code",
      "metadata": {
        "id": "4qw-iKiGRX6k",
        "colab_type": "code",
        "outputId": "2fb49111-b907-4c6a-8285-6be3c3bba841",
        "colab": {
          "base_uri": "https://localhost:8080/",
          "height": 195
        }
      },
      "source": [
        "car.head()"
      ],
      "execution_count": 0,
      "outputs": [
        {
          "output_type": "execute_result",
          "data": {
            "text/html": [
              "<div>\n",
              "<style scoped>\n",
              "    .dataframe tbody tr th:only-of-type {\n",
              "        vertical-align: middle;\n",
              "    }\n",
              "\n",
              "    .dataframe tbody tr th {\n",
              "        vertical-align: top;\n",
              "    }\n",
              "\n",
              "    .dataframe thead th {\n",
              "        text-align: right;\n",
              "    }\n",
              "</style>\n",
              "<table border=\"1\" class=\"dataframe\">\n",
              "  <thead>\n",
              "    <tr style=\"text-align: right;\">\n",
              "      <th></th>\n",
              "      <th>mpg</th>\n",
              "      <th>cylinders</th>\n",
              "      <th>displacement</th>\n",
              "      <th>horsepower</th>\n",
              "      <th>weight</th>\n",
              "      <th>acceleration</th>\n",
              "      <th>model_year</th>\n",
              "      <th>origin</th>\n",
              "      <th>car_name</th>\n",
              "    </tr>\n",
              "  </thead>\n",
              "  <tbody>\n",
              "    <tr>\n",
              "      <th>0</th>\n",
              "      <td>18.0</td>\n",
              "      <td>8</td>\n",
              "      <td>307.0</td>\n",
              "      <td>130.0</td>\n",
              "      <td>3504.0</td>\n",
              "      <td>12.0</td>\n",
              "      <td>70</td>\n",
              "      <td>1</td>\n",
              "      <td>NaN</td>\n",
              "    </tr>\n",
              "    <tr>\n",
              "      <th>1</th>\n",
              "      <td>15.0</td>\n",
              "      <td>8</td>\n",
              "      <td>350.0</td>\n",
              "      <td>165.0</td>\n",
              "      <td>3693.0</td>\n",
              "      <td>11.5</td>\n",
              "      <td>70</td>\n",
              "      <td>1</td>\n",
              "      <td>NaN</td>\n",
              "    </tr>\n",
              "    <tr>\n",
              "      <th>2</th>\n",
              "      <td>18.0</td>\n",
              "      <td>8</td>\n",
              "      <td>318.0</td>\n",
              "      <td>150.0</td>\n",
              "      <td>3436.0</td>\n",
              "      <td>11.0</td>\n",
              "      <td>70</td>\n",
              "      <td>1</td>\n",
              "      <td>NaN</td>\n",
              "    </tr>\n",
              "    <tr>\n",
              "      <th>3</th>\n",
              "      <td>16.0</td>\n",
              "      <td>8</td>\n",
              "      <td>304.0</td>\n",
              "      <td>150.0</td>\n",
              "      <td>3433.0</td>\n",
              "      <td>12.0</td>\n",
              "      <td>70</td>\n",
              "      <td>1</td>\n",
              "      <td>NaN</td>\n",
              "    </tr>\n",
              "    <tr>\n",
              "      <th>4</th>\n",
              "      <td>17.0</td>\n",
              "      <td>8</td>\n",
              "      <td>302.0</td>\n",
              "      <td>140.0</td>\n",
              "      <td>3449.0</td>\n",
              "      <td>10.5</td>\n",
              "      <td>70</td>\n",
              "      <td>1</td>\n",
              "      <td>NaN</td>\n",
              "    </tr>\n",
              "  </tbody>\n",
              "</table>\n",
              "</div>"
            ],
            "text/plain": [
              "    mpg  cylinders  displacement  ...  model_year  origin  car_name\n",
              "0  18.0          8         307.0  ...          70       1       NaN\n",
              "1  15.0          8         350.0  ...          70       1       NaN\n",
              "2  18.0          8         318.0  ...          70       1       NaN\n",
              "3  16.0          8         304.0  ...          70       1       NaN\n",
              "4  17.0          8         302.0  ...          70       1       NaN\n",
              "\n",
              "[5 rows x 9 columns]"
            ]
          },
          "metadata": {
            "tags": []
          },
          "execution_count": 25
        }
      ]
    },
    {
      "cell_type": "code",
      "metadata": {
        "id": "wyQXhrxxTMqr",
        "colab_type": "code",
        "outputId": "81ba8a49-f06c-4c68-c32c-4472a8421907",
        "colab": {
          "base_uri": "https://localhost:8080/",
          "height": 34
        }
      },
      "source": [
        "car = car.drop('car_name', axis=1)\n",
        "car.shape"
      ],
      "execution_count": 0,
      "outputs": [
        {
          "output_type": "execute_result",
          "data": {
            "text/plain": [
              "(398, 8)"
            ]
          },
          "metadata": {
            "tags": []
          },
          "execution_count": 26
        }
      ]
    },
    {
      "cell_type": "code",
      "metadata": {
        "id": "IavWIwOgYFjw",
        "colab_type": "code",
        "outputId": "96cc4bba-5b92-4baf-d472-6c8b233b407f",
        "colab": {
          "base_uri": "https://localhost:8080/",
          "height": 269
        }
      },
      "source": [
        "car.info()"
      ],
      "execution_count": 0,
      "outputs": [
        {
          "output_type": "stream",
          "text": [
            "<class 'pandas.core.frame.DataFrame'>\n",
            "RangeIndex: 398 entries, 0 to 397\n",
            "Data columns (total 8 columns):\n",
            " #   Column        Non-Null Count  Dtype  \n",
            "---  ------        --------------  -----  \n",
            " 0   mpg           398 non-null    float64\n",
            " 1   cylinders     398 non-null    int64  \n",
            " 2   displacement  398 non-null    float64\n",
            " 3   horsepower    392 non-null    float64\n",
            " 4   weight        398 non-null    float64\n",
            " 5   acceleration  398 non-null    float64\n",
            " 6   model_year    398 non-null    int64  \n",
            " 7   origin        398 non-null    int64  \n",
            "dtypes: float64(5), int64(3)\n",
            "memory usage: 25.0 KB\n"
          ],
          "name": "stdout"
        }
      ]
    },
    {
      "cell_type": "code",
      "metadata": {
        "id": "4f289JmYSsty",
        "colab_type": "code",
        "outputId": "eec834d4-27bb-4725-b06f-eb5dafa02ef3",
        "colab": {
          "base_uri": "https://localhost:8080/",
          "height": 168
        }
      },
      "source": [
        "car.isnull().sum()"
      ],
      "execution_count": 0,
      "outputs": [
        {
          "output_type": "execute_result",
          "data": {
            "text/plain": [
              "mpg             0\n",
              "cylinders       0\n",
              "displacement    0\n",
              "horsepower      6\n",
              "weight          0\n",
              "acceleration    0\n",
              "model_year      0\n",
              "origin          0\n",
              "dtype: int64"
            ]
          },
          "metadata": {
            "tags": []
          },
          "execution_count": 28
        }
      ]
    },
    {
      "cell_type": "code",
      "metadata": {
        "id": "tzfFU8a7TGhV",
        "colab_type": "code",
        "outputId": "a5628ad5-dc9b-41d2-e4e8-cc291ab45809",
        "colab": {
          "base_uri": "https://localhost:8080/",
          "height": 168
        }
      },
      "source": [
        "car.dropna(inplace=True)\n",
        "car.isnull().sum()"
      ],
      "execution_count": 0,
      "outputs": [
        {
          "output_type": "execute_result",
          "data": {
            "text/plain": [
              "mpg             0\n",
              "cylinders       0\n",
              "displacement    0\n",
              "horsepower      0\n",
              "weight          0\n",
              "acceleration    0\n",
              "model_year      0\n",
              "origin          0\n",
              "dtype: int64"
            ]
          },
          "metadata": {
            "tags": []
          },
          "execution_count": 29
        }
      ]
    },
    {
      "cell_type": "code",
      "metadata": {
        "id": "7wutloZeX7Op",
        "colab_type": "code",
        "outputId": "f43637cd-b7bb-4899-e7e9-791c1a2ef596",
        "colab": {
          "base_uri": "https://localhost:8080/",
          "height": 269
        }
      },
      "source": [
        "car.info()"
      ],
      "execution_count": 0,
      "outputs": [
        {
          "output_type": "stream",
          "text": [
            "<class 'pandas.core.frame.DataFrame'>\n",
            "Int64Index: 392 entries, 0 to 397\n",
            "Data columns (total 8 columns):\n",
            " #   Column        Non-Null Count  Dtype  \n",
            "---  ------        --------------  -----  \n",
            " 0   mpg           392 non-null    float64\n",
            " 1   cylinders     392 non-null    int64  \n",
            " 2   displacement  392 non-null    float64\n",
            " 3   horsepower    392 non-null    float64\n",
            " 4   weight        392 non-null    float64\n",
            " 5   acceleration  392 non-null    float64\n",
            " 6   model_year    392 non-null    int64  \n",
            " 7   origin        392 non-null    int64  \n",
            "dtypes: float64(5), int64(3)\n",
            "memory usage: 27.6 KB\n"
          ],
          "name": "stdout"
        }
      ]
    },
    {
      "cell_type": "code",
      "metadata": {
        "id": "ZTDygkwxYQAm",
        "colab_type": "code",
        "colab": {}
      },
      "source": [
        "new_car = pd.get_dummies(car, columns=[\"origin\"])"
      ],
      "execution_count": 0,
      "outputs": []
    },
    {
      "cell_type": "code",
      "metadata": {
        "id": "gDhZljw2YfR4",
        "colab_type": "code",
        "outputId": "0c9ecd8c-c4fb-4e14-c564-b86e609360aa",
        "colab": {
          "base_uri": "https://localhost:8080/",
          "height": 195
        }
      },
      "source": [
        "new_car.head()"
      ],
      "execution_count": 0,
      "outputs": [
        {
          "output_type": "execute_result",
          "data": {
            "text/html": [
              "<div>\n",
              "<style scoped>\n",
              "    .dataframe tbody tr th:only-of-type {\n",
              "        vertical-align: middle;\n",
              "    }\n",
              "\n",
              "    .dataframe tbody tr th {\n",
              "        vertical-align: top;\n",
              "    }\n",
              "\n",
              "    .dataframe thead th {\n",
              "        text-align: right;\n",
              "    }\n",
              "</style>\n",
              "<table border=\"1\" class=\"dataframe\">\n",
              "  <thead>\n",
              "    <tr style=\"text-align: right;\">\n",
              "      <th></th>\n",
              "      <th>mpg</th>\n",
              "      <th>cylinders</th>\n",
              "      <th>displacement</th>\n",
              "      <th>horsepower</th>\n",
              "      <th>weight</th>\n",
              "      <th>acceleration</th>\n",
              "      <th>model_year</th>\n",
              "      <th>origin_1</th>\n",
              "      <th>origin_2</th>\n",
              "      <th>origin_3</th>\n",
              "    </tr>\n",
              "  </thead>\n",
              "  <tbody>\n",
              "    <tr>\n",
              "      <th>0</th>\n",
              "      <td>18.0</td>\n",
              "      <td>8</td>\n",
              "      <td>307.0</td>\n",
              "      <td>130.0</td>\n",
              "      <td>3504.0</td>\n",
              "      <td>12.0</td>\n",
              "      <td>70</td>\n",
              "      <td>1</td>\n",
              "      <td>0</td>\n",
              "      <td>0</td>\n",
              "    </tr>\n",
              "    <tr>\n",
              "      <th>1</th>\n",
              "      <td>15.0</td>\n",
              "      <td>8</td>\n",
              "      <td>350.0</td>\n",
              "      <td>165.0</td>\n",
              "      <td>3693.0</td>\n",
              "      <td>11.5</td>\n",
              "      <td>70</td>\n",
              "      <td>1</td>\n",
              "      <td>0</td>\n",
              "      <td>0</td>\n",
              "    </tr>\n",
              "    <tr>\n",
              "      <th>2</th>\n",
              "      <td>18.0</td>\n",
              "      <td>8</td>\n",
              "      <td>318.0</td>\n",
              "      <td>150.0</td>\n",
              "      <td>3436.0</td>\n",
              "      <td>11.0</td>\n",
              "      <td>70</td>\n",
              "      <td>1</td>\n",
              "      <td>0</td>\n",
              "      <td>0</td>\n",
              "    </tr>\n",
              "    <tr>\n",
              "      <th>3</th>\n",
              "      <td>16.0</td>\n",
              "      <td>8</td>\n",
              "      <td>304.0</td>\n",
              "      <td>150.0</td>\n",
              "      <td>3433.0</td>\n",
              "      <td>12.0</td>\n",
              "      <td>70</td>\n",
              "      <td>1</td>\n",
              "      <td>0</td>\n",
              "      <td>0</td>\n",
              "    </tr>\n",
              "    <tr>\n",
              "      <th>4</th>\n",
              "      <td>17.0</td>\n",
              "      <td>8</td>\n",
              "      <td>302.0</td>\n",
              "      <td>140.0</td>\n",
              "      <td>3449.0</td>\n",
              "      <td>10.5</td>\n",
              "      <td>70</td>\n",
              "      <td>1</td>\n",
              "      <td>0</td>\n",
              "      <td>0</td>\n",
              "    </tr>\n",
              "  </tbody>\n",
              "</table>\n",
              "</div>"
            ],
            "text/plain": [
              "    mpg  cylinders  displacement  ...  origin_1  origin_2  origin_3\n",
              "0  18.0          8         307.0  ...         1         0         0\n",
              "1  15.0          8         350.0  ...         1         0         0\n",
              "2  18.0          8         318.0  ...         1         0         0\n",
              "3  16.0          8         304.0  ...         1         0         0\n",
              "4  17.0          8         302.0  ...         1         0         0\n",
              "\n",
              "[5 rows x 10 columns]"
            ]
          },
          "metadata": {
            "tags": []
          },
          "execution_count": 32
        }
      ]
    },
    {
      "cell_type": "markdown",
      "metadata": {
        "id": "Kw2_xAaiY_Qr",
        "colab_type": "text"
      },
      "source": [
        "# 2)"
      ]
    },
    {
      "cell_type": "code",
      "metadata": {
        "id": "022QpyB0Z3lu",
        "colab_type": "code",
        "outputId": "18222803-7a43-4f93-fa80-d86999d21022",
        "colab": {
          "base_uri": "https://localhost:8080/",
          "height": 34
        }
      },
      "source": [
        "Y_car = new_car['mpg']\n",
        "Y_car.shape"
      ],
      "execution_count": 0,
      "outputs": [
        {
          "output_type": "execute_result",
          "data": {
            "text/plain": [
              "(392,)"
            ]
          },
          "metadata": {
            "tags": []
          },
          "execution_count": 33
        }
      ]
    },
    {
      "cell_type": "code",
      "metadata": {
        "id": "qWYcoOT5aJ3b",
        "colab_type": "code",
        "outputId": "962c2332-a286-4711-8f2f-46ec3cd25a62",
        "colab": {
          "base_uri": "https://localhost:8080/",
          "height": 34
        }
      },
      "source": [
        "X_car = new_car.drop('mpg', axis = 1)\n",
        "X_car.shape"
      ],
      "execution_count": 0,
      "outputs": [
        {
          "output_type": "execute_result",
          "data": {
            "text/plain": [
              "(392, 9)"
            ]
          },
          "metadata": {
            "tags": []
          },
          "execution_count": 34
        }
      ]
    },
    {
      "cell_type": "code",
      "metadata": {
        "id": "YczlbbiWWBVw",
        "colab_type": "code",
        "colab": {}
      },
      "source": [
        "Xtrain, Xtest, ytrain, ytest = train_test_split(X_car, Y_car, random_state = 1, train_size = 0.8)"
      ],
      "execution_count": 0,
      "outputs": []
    },
    {
      "cell_type": "markdown",
      "metadata": {
        "id": "QR7W_S3jv8Sv",
        "colab_type": "text"
      },
      "source": [
        "#3)"
      ]
    },
    {
      "cell_type": "code",
      "metadata": {
        "id": "JulZ9DF4Zymh",
        "colab_type": "code",
        "outputId": "b930cbe7-ff69-4cfb-d42a-76a2475d4510",
        "colab": {
          "base_uri": "https://localhost:8080/",
          "height": 284
        }
      },
      "source": [
        "new_car.describe()"
      ],
      "execution_count": 0,
      "outputs": [
        {
          "output_type": "execute_result",
          "data": {
            "text/html": [
              "<div>\n",
              "<style scoped>\n",
              "    .dataframe tbody tr th:only-of-type {\n",
              "        vertical-align: middle;\n",
              "    }\n",
              "\n",
              "    .dataframe tbody tr th {\n",
              "        vertical-align: top;\n",
              "    }\n",
              "\n",
              "    .dataframe thead th {\n",
              "        text-align: right;\n",
              "    }\n",
              "</style>\n",
              "<table border=\"1\" class=\"dataframe\">\n",
              "  <thead>\n",
              "    <tr style=\"text-align: right;\">\n",
              "      <th></th>\n",
              "      <th>mpg</th>\n",
              "      <th>cylinders</th>\n",
              "      <th>displacement</th>\n",
              "      <th>horsepower</th>\n",
              "      <th>weight</th>\n",
              "      <th>acceleration</th>\n",
              "      <th>model_year</th>\n",
              "      <th>origin_1</th>\n",
              "      <th>origin_2</th>\n",
              "      <th>origin_3</th>\n",
              "    </tr>\n",
              "  </thead>\n",
              "  <tbody>\n",
              "    <tr>\n",
              "      <th>count</th>\n",
              "      <td>392.000000</td>\n",
              "      <td>392.000000</td>\n",
              "      <td>392.000000</td>\n",
              "      <td>392.000000</td>\n",
              "      <td>392.000000</td>\n",
              "      <td>392.000000</td>\n",
              "      <td>392.000000</td>\n",
              "      <td>392.000000</td>\n",
              "      <td>392.000000</td>\n",
              "      <td>392.000000</td>\n",
              "    </tr>\n",
              "    <tr>\n",
              "      <th>mean</th>\n",
              "      <td>23.445918</td>\n",
              "      <td>5.471939</td>\n",
              "      <td>194.411990</td>\n",
              "      <td>104.469388</td>\n",
              "      <td>2977.584184</td>\n",
              "      <td>15.541327</td>\n",
              "      <td>75.979592</td>\n",
              "      <td>0.625000</td>\n",
              "      <td>0.173469</td>\n",
              "      <td>0.201531</td>\n",
              "    </tr>\n",
              "    <tr>\n",
              "      <th>std</th>\n",
              "      <td>7.805007</td>\n",
              "      <td>1.705783</td>\n",
              "      <td>104.644004</td>\n",
              "      <td>38.491160</td>\n",
              "      <td>849.402560</td>\n",
              "      <td>2.758864</td>\n",
              "      <td>3.683737</td>\n",
              "      <td>0.484742</td>\n",
              "      <td>0.379136</td>\n",
              "      <td>0.401656</td>\n",
              "    </tr>\n",
              "    <tr>\n",
              "      <th>min</th>\n",
              "      <td>9.000000</td>\n",
              "      <td>3.000000</td>\n",
              "      <td>68.000000</td>\n",
              "      <td>46.000000</td>\n",
              "      <td>1613.000000</td>\n",
              "      <td>8.000000</td>\n",
              "      <td>70.000000</td>\n",
              "      <td>0.000000</td>\n",
              "      <td>0.000000</td>\n",
              "      <td>0.000000</td>\n",
              "    </tr>\n",
              "    <tr>\n",
              "      <th>25%</th>\n",
              "      <td>17.000000</td>\n",
              "      <td>4.000000</td>\n",
              "      <td>105.000000</td>\n",
              "      <td>75.000000</td>\n",
              "      <td>2225.250000</td>\n",
              "      <td>13.775000</td>\n",
              "      <td>73.000000</td>\n",
              "      <td>0.000000</td>\n",
              "      <td>0.000000</td>\n",
              "      <td>0.000000</td>\n",
              "    </tr>\n",
              "    <tr>\n",
              "      <th>50%</th>\n",
              "      <td>22.750000</td>\n",
              "      <td>4.000000</td>\n",
              "      <td>151.000000</td>\n",
              "      <td>93.500000</td>\n",
              "      <td>2803.500000</td>\n",
              "      <td>15.500000</td>\n",
              "      <td>76.000000</td>\n",
              "      <td>1.000000</td>\n",
              "      <td>0.000000</td>\n",
              "      <td>0.000000</td>\n",
              "    </tr>\n",
              "    <tr>\n",
              "      <th>75%</th>\n",
              "      <td>29.000000</td>\n",
              "      <td>8.000000</td>\n",
              "      <td>275.750000</td>\n",
              "      <td>126.000000</td>\n",
              "      <td>3614.750000</td>\n",
              "      <td>17.025000</td>\n",
              "      <td>79.000000</td>\n",
              "      <td>1.000000</td>\n",
              "      <td>0.000000</td>\n",
              "      <td>0.000000</td>\n",
              "    </tr>\n",
              "    <tr>\n",
              "      <th>max</th>\n",
              "      <td>46.600000</td>\n",
              "      <td>8.000000</td>\n",
              "      <td>455.000000</td>\n",
              "      <td>230.000000</td>\n",
              "      <td>5140.000000</td>\n",
              "      <td>24.800000</td>\n",
              "      <td>82.000000</td>\n",
              "      <td>1.000000</td>\n",
              "      <td>1.000000</td>\n",
              "      <td>1.000000</td>\n",
              "    </tr>\n",
              "  </tbody>\n",
              "</table>\n",
              "</div>"
            ],
            "text/plain": [
              "              mpg   cylinders  displacement  ...    origin_1    origin_2    origin_3\n",
              "count  392.000000  392.000000    392.000000  ...  392.000000  392.000000  392.000000\n",
              "mean    23.445918    5.471939    194.411990  ...    0.625000    0.173469    0.201531\n",
              "std      7.805007    1.705783    104.644004  ...    0.484742    0.379136    0.401656\n",
              "min      9.000000    3.000000     68.000000  ...    0.000000    0.000000    0.000000\n",
              "25%     17.000000    4.000000    105.000000  ...    0.000000    0.000000    0.000000\n",
              "50%     22.750000    4.000000    151.000000  ...    1.000000    0.000000    0.000000\n",
              "75%     29.000000    8.000000    275.750000  ...    1.000000    0.000000    0.000000\n",
              "max     46.600000    8.000000    455.000000  ...    1.000000    1.000000    1.000000\n",
              "\n",
              "[8 rows x 10 columns]"
            ]
          },
          "metadata": {
            "tags": []
          },
          "execution_count": 36
        }
      ]
    },
    {
      "cell_type": "code",
      "metadata": {
        "id": "p5xyZ80PZEkb",
        "colab_type": "code",
        "colab": {}
      },
      "source": [
        "mean = Xtrain.mean(axis=0)\n",
        "Xtrain -= mean\n",
        "std = Xtrain.std(axis=0)\n",
        "Xtrain /= std\n",
        "\n",
        "Xtest -= mean\n",
        "Xtest /= std"
      ],
      "execution_count": 0,
      "outputs": []
    },
    {
      "cell_type": "markdown",
      "metadata": {
        "id": "zSHmrbUtxBxT",
        "colab_type": "text"
      },
      "source": [
        "#4)"
      ]
    },
    {
      "cell_type": "code",
      "metadata": {
        "id": "rXIdCn85wE3U",
        "colab_type": "code",
        "colab": {}
      },
      "source": [
        "modelc = models.Sequential()\n",
        "modelc.add(layers.Dense(32, activation='relu',input_shape=(Xtrain.shape[1],)))\n",
        "modelc.add(layers.Dense(32, activation='relu'))\n",
        "modelc.add(layers.Dense(1))"
      ],
      "execution_count": 0,
      "outputs": []
    },
    {
      "cell_type": "code",
      "metadata": {
        "id": "suDx_sZ7bGtI",
        "colab_type": "code",
        "colab": {}
      },
      "source": [
        "modelc.compile(optimizer='rmsprop', loss='mse', metrics=['mae'])"
      ],
      "execution_count": 0,
      "outputs": []
    },
    {
      "cell_type": "markdown",
      "metadata": {
        "id": "JzwicUjjxEJ6",
        "colab_type": "text"
      },
      "source": [
        "#5)"
      ]
    },
    {
      "cell_type": "code",
      "metadata": {
        "id": "hK5X-zR3bh8f",
        "colab_type": "code",
        "colab": {}
      },
      "source": [
        "xval, par_x_train = np.split(Xtrain, [int(0.2 * len(Xtrain))])\n",
        "yval, par_y_train = np.split(ytrain, [int(0.2 * len(ytrain))])"
      ],
      "execution_count": 0,
      "outputs": []
    },
    {
      "cell_type": "code",
      "metadata": {
        "id": "p0KVVaQvb9Zq",
        "colab_type": "code",
        "outputId": "583a8cc6-7546-40b1-93a7-9708962df6b9",
        "colab": {
          "base_uri": "https://localhost:8080/",
          "height": 34
        }
      },
      "source": [
        "yval.shape"
      ],
      "execution_count": 0,
      "outputs": [
        {
          "output_type": "execute_result",
          "data": {
            "text/plain": [
              "(62,)"
            ]
          },
          "metadata": {
            "tags": []
          },
          "execution_count": 41
        }
      ]
    },
    {
      "cell_type": "code",
      "metadata": {
        "id": "74Rl0nT6b4OH",
        "colab_type": "code",
        "outputId": "00a7b994-021c-4743-d028-21110c671c42",
        "colab": {
          "base_uri": "https://localhost:8080/",
          "height": 34
        }
      },
      "source": [
        "xval.shape"
      ],
      "execution_count": 0,
      "outputs": [
        {
          "output_type": "execute_result",
          "data": {
            "text/plain": [
              "(62, 9)"
            ]
          },
          "metadata": {
            "tags": []
          },
          "execution_count": 42
        }
      ]
    },
    {
      "cell_type": "code",
      "metadata": {
        "id": "ffZlsEVEcA3Z",
        "colab_type": "code",
        "outputId": "4a41b3ba-594b-4e42-9f28-3fb558655b91",
        "colab": {
          "base_uri": "https://localhost:8080/",
          "height": 34
        }
      },
      "source": [
        "par_y_train.shape"
      ],
      "execution_count": 0,
      "outputs": [
        {
          "output_type": "execute_result",
          "data": {
            "text/plain": [
              "(251,)"
            ]
          },
          "metadata": {
            "tags": []
          },
          "execution_count": 43
        }
      ]
    },
    {
      "cell_type": "code",
      "metadata": {
        "id": "3vzlVPV0cAz_",
        "colab_type": "code",
        "outputId": "eddc2852-1195-446e-8166-9f95d5af9900",
        "colab": {
          "base_uri": "https://localhost:8080/",
          "height": 34
        }
      },
      "source": [
        "par_x_train.shape"
      ],
      "execution_count": 0,
      "outputs": [
        {
          "output_type": "execute_result",
          "data": {
            "text/plain": [
              "(251, 9)"
            ]
          },
          "metadata": {
            "tags": []
          },
          "execution_count": 44
        }
      ]
    },
    {
      "cell_type": "code",
      "metadata": {
        "id": "7XbSW8_3cPgr",
        "colab_type": "code",
        "outputId": "3ce364fc-d6d8-4a85-ce36-2242eef84a67",
        "colab": {
          "base_uri": "https://localhost:8080/",
          "height": 1000
        }
      },
      "source": [
        "historyc = modelc.fit(par_x_train,\n",
        "                    par_y_train,\n",
        "                    epochs=500,\n",
        "                    batch_size=8,\n",
        "                    validation_data=(xval, yval))"
      ],
      "execution_count": 0,
      "outputs": [
        {
          "output_type": "stream",
          "text": [
            "Epoch 1/500\n",
            "32/32 [==============================] - 0s 5ms/step - loss: 580.0864 - mae: 22.6716 - val_loss: 533.0598 - val_mae: 21.7298\n",
            "Epoch 2/500\n",
            "32/32 [==============================] - 0s 3ms/step - loss: 491.5183 - mae: 20.8349 - val_loss: 448.2275 - val_mae: 19.5558\n",
            "Epoch 3/500\n",
            "32/32 [==============================] - 0s 3ms/step - loss: 398.2892 - mae: 18.3437 - val_loss: 344.2928 - val_mae: 16.6602\n",
            "Epoch 4/500\n",
            "32/32 [==============================] - 0s 3ms/step - loss: 295.1903 - mae: 15.4007 - val_loss: 236.1236 - val_mae: 13.4402\n",
            "Epoch 5/500\n",
            "32/32 [==============================] - 0s 3ms/step - loss: 192.4304 - mae: 12.1730 - val_loss: 127.9815 - val_mae: 9.7864\n",
            "Epoch 6/500\n",
            "32/32 [==============================] - 0s 3ms/step - loss: 94.2468 - mae: 8.4376 - val_loss: 52.3653 - val_mae: 6.1252\n",
            "Epoch 7/500\n",
            "32/32 [==============================] - 0s 3ms/step - loss: 36.4546 - mae: 4.9315 - val_loss: 25.2914 - val_mae: 4.0654\n",
            "Epoch 8/500\n",
            "32/32 [==============================] - 0s 3ms/step - loss: 19.8587 - mae: 3.5624 - val_loss: 18.9470 - val_mae: 3.4000\n",
            "Epoch 9/500\n",
            "32/32 [==============================] - 0s 3ms/step - loss: 15.6651 - mae: 3.0857 - val_loss: 16.3086 - val_mae: 3.1815\n",
            "Epoch 10/500\n",
            "32/32 [==============================] - 0s 3ms/step - loss: 14.1866 - mae: 2.8756 - val_loss: 13.8276 - val_mae: 2.9282\n",
            "Epoch 11/500\n",
            "32/32 [==============================] - 0s 3ms/step - loss: 12.1733 - mae: 2.7087 - val_loss: 13.1891 - val_mae: 2.9041\n",
            "Epoch 12/500\n",
            "32/32 [==============================] - 0s 3ms/step - loss: 11.3572 - mae: 2.5634 - val_loss: 11.6339 - val_mae: 2.7056\n",
            "Epoch 13/500\n",
            "32/32 [==============================] - 0s 3ms/step - loss: 10.8030 - mae: 2.4743 - val_loss: 11.2960 - val_mae: 2.7110\n",
            "Epoch 14/500\n",
            "32/32 [==============================] - 0s 3ms/step - loss: 9.5435 - mae: 2.3553 - val_loss: 10.1347 - val_mae: 2.5323\n",
            "Epoch 15/500\n",
            "32/32 [==============================] - 0s 3ms/step - loss: 8.9292 - mae: 2.2789 - val_loss: 9.3838 - val_mae: 2.4368\n",
            "Epoch 16/500\n",
            "32/32 [==============================] - 0s 3ms/step - loss: 8.5402 - mae: 2.2108 - val_loss: 9.8131 - val_mae: 2.4891\n",
            "Epoch 17/500\n",
            "32/32 [==============================] - 0s 3ms/step - loss: 8.1481 - mae: 2.1231 - val_loss: 9.4171 - val_mae: 2.4458\n",
            "Epoch 18/500\n",
            "32/32 [==============================] - 0s 3ms/step - loss: 7.7714 - mae: 2.0598 - val_loss: 9.1755 - val_mae: 2.3581\n",
            "Epoch 19/500\n",
            "32/32 [==============================] - 0s 3ms/step - loss: 7.5673 - mae: 2.0257 - val_loss: 8.6522 - val_mae: 2.3253\n",
            "Epoch 20/500\n",
            "32/32 [==============================] - 0s 3ms/step - loss: 7.0706 - mae: 1.9893 - val_loss: 9.1868 - val_mae: 2.3735\n",
            "Epoch 21/500\n",
            "32/32 [==============================] - 0s 3ms/step - loss: 6.9384 - mae: 1.9487 - val_loss: 8.3972 - val_mae: 2.2604\n",
            "Epoch 22/500\n",
            "32/32 [==============================] - 0s 3ms/step - loss: 6.6595 - mae: 1.9216 - val_loss: 8.3429 - val_mae: 2.2292\n",
            "Epoch 23/500\n",
            "32/32 [==============================] - 0s 3ms/step - loss: 6.4358 - mae: 1.8733 - val_loss: 8.0677 - val_mae: 2.1582\n",
            "Epoch 24/500\n",
            "32/32 [==============================] - 0s 3ms/step - loss: 6.6924 - mae: 1.8822 - val_loss: 8.4697 - val_mae: 2.2149\n",
            "Epoch 25/500\n",
            "32/32 [==============================] - 0s 3ms/step - loss: 6.1271 - mae: 1.8303 - val_loss: 8.6098 - val_mae: 2.1876\n",
            "Epoch 26/500\n",
            "32/32 [==============================] - 0s 3ms/step - loss: 6.2114 - mae: 1.8457 - val_loss: 8.1574 - val_mae: 2.1759\n",
            "Epoch 27/500\n",
            "32/32 [==============================] - 0s 3ms/step - loss: 6.0363 - mae: 1.8427 - val_loss: 7.9625 - val_mae: 2.1369\n",
            "Epoch 28/500\n",
            "32/32 [==============================] - 0s 3ms/step - loss: 5.8463 - mae: 1.8033 - val_loss: 9.3573 - val_mae: 2.2940\n",
            "Epoch 29/500\n",
            "32/32 [==============================] - 0s 3ms/step - loss: 6.1239 - mae: 1.8314 - val_loss: 8.7670 - val_mae: 2.2000\n",
            "Epoch 30/500\n",
            "32/32 [==============================] - 0s 3ms/step - loss: 5.9132 - mae: 1.8122 - val_loss: 8.5398 - val_mae: 2.1824\n",
            "Epoch 31/500\n",
            "32/32 [==============================] - 0s 3ms/step - loss: 5.8186 - mae: 1.8155 - val_loss: 8.1295 - val_mae: 2.1144\n",
            "Epoch 32/500\n",
            "32/32 [==============================] - 0s 3ms/step - loss: 5.8608 - mae: 1.8112 - val_loss: 8.0525 - val_mae: 2.1251\n",
            "Epoch 33/500\n",
            "32/32 [==============================] - 0s 3ms/step - loss: 5.9987 - mae: 1.7710 - val_loss: 8.5489 - val_mae: 2.2050\n",
            "Epoch 34/500\n",
            "32/32 [==============================] - 0s 3ms/step - loss: 5.7203 - mae: 1.7893 - val_loss: 7.7526 - val_mae: 2.0874\n",
            "Epoch 35/500\n",
            "32/32 [==============================] - 0s 3ms/step - loss: 5.6680 - mae: 1.7880 - val_loss: 7.9328 - val_mae: 2.1091\n",
            "Epoch 36/500\n",
            "32/32 [==============================] - 0s 3ms/step - loss: 5.7051 - mae: 1.7322 - val_loss: 8.2216 - val_mae: 2.1818\n",
            "Epoch 37/500\n",
            "32/32 [==============================] - 0s 3ms/step - loss: 5.6806 - mae: 1.7793 - val_loss: 8.5230 - val_mae: 2.1672\n",
            "Epoch 38/500\n",
            "32/32 [==============================] - 0s 3ms/step - loss: 5.7625 - mae: 1.7602 - val_loss: 8.8647 - val_mae: 2.1904\n",
            "Epoch 39/500\n",
            "32/32 [==============================] - 0s 3ms/step - loss: 5.5384 - mae: 1.7559 - val_loss: 8.7354 - val_mae: 2.1985\n",
            "Epoch 40/500\n",
            "32/32 [==============================] - 0s 3ms/step - loss: 5.6287 - mae: 1.7408 - val_loss: 8.4876 - val_mae: 2.1614\n",
            "Epoch 41/500\n",
            "32/32 [==============================] - 0s 3ms/step - loss: 6.0070 - mae: 1.7470 - val_loss: 8.1901 - val_mae: 2.1308\n",
            "Epoch 42/500\n",
            "32/32 [==============================] - 0s 2ms/step - loss: 5.3955 - mae: 1.7395 - val_loss: 8.5007 - val_mae: 2.1734\n",
            "Epoch 43/500\n",
            "32/32 [==============================] - 0s 3ms/step - loss: 5.2963 - mae: 1.7083 - val_loss: 8.0127 - val_mae: 2.0543\n",
            "Epoch 44/500\n",
            "32/32 [==============================] - 0s 3ms/step - loss: 5.3790 - mae: 1.7257 - val_loss: 8.0462 - val_mae: 2.0512\n",
            "Epoch 45/500\n",
            "32/32 [==============================] - 0s 3ms/step - loss: 5.3373 - mae: 1.7269 - val_loss: 8.8368 - val_mae: 2.2244\n",
            "Epoch 46/500\n",
            "32/32 [==============================] - 0s 3ms/step - loss: 5.3401 - mae: 1.7300 - val_loss: 9.0893 - val_mae: 2.2462\n",
            "Epoch 47/500\n",
            "32/32 [==============================] - 0s 3ms/step - loss: 5.2609 - mae: 1.7351 - val_loss: 8.3533 - val_mae: 2.1148\n",
            "Epoch 48/500\n",
            "32/32 [==============================] - 0s 3ms/step - loss: 5.3834 - mae: 1.7446 - val_loss: 8.4199 - val_mae: 2.1465\n",
            "Epoch 49/500\n",
            "32/32 [==============================] - 0s 3ms/step - loss: 5.3206 - mae: 1.7445 - val_loss: 8.5314 - val_mae: 2.1628\n",
            "Epoch 50/500\n",
            "32/32 [==============================] - 0s 3ms/step - loss: 5.1888 - mae: 1.7101 - val_loss: 8.1139 - val_mae: 2.0782\n",
            "Epoch 51/500\n",
            "32/32 [==============================] - 0s 3ms/step - loss: 5.2209 - mae: 1.7226 - val_loss: 8.5078 - val_mae: 2.1560\n",
            "Epoch 52/500\n",
            "32/32 [==============================] - 0s 3ms/step - loss: 5.1787 - mae: 1.7275 - val_loss: 8.2559 - val_mae: 2.0896\n",
            "Epoch 53/500\n",
            "32/32 [==============================] - 0s 3ms/step - loss: 5.1403 - mae: 1.6965 - val_loss: 8.1394 - val_mae: 2.0660\n",
            "Epoch 54/500\n",
            "32/32 [==============================] - 0s 3ms/step - loss: 5.1952 - mae: 1.7084 - val_loss: 8.7212 - val_mae: 2.1864\n",
            "Epoch 55/500\n",
            "32/32 [==============================] - 0s 3ms/step - loss: 5.1781 - mae: 1.6904 - val_loss: 8.5240 - val_mae: 2.1535\n",
            "Epoch 56/500\n",
            "32/32 [==============================] - 0s 3ms/step - loss: 5.0313 - mae: 1.7132 - val_loss: 9.2711 - val_mae: 2.2759\n",
            "Epoch 57/500\n",
            "32/32 [==============================] - 0s 3ms/step - loss: 5.1324 - mae: 1.7133 - val_loss: 8.4757 - val_mae: 2.1298\n",
            "Epoch 58/500\n",
            "32/32 [==============================] - 0s 3ms/step - loss: 5.1424 - mae: 1.7046 - val_loss: 8.6472 - val_mae: 2.2062\n",
            "Epoch 59/500\n",
            "32/32 [==============================] - 0s 3ms/step - loss: 5.0429 - mae: 1.6903 - val_loss: 8.8454 - val_mae: 2.2228\n",
            "Epoch 60/500\n",
            "32/32 [==============================] - 0s 3ms/step - loss: 5.1072 - mae: 1.6861 - val_loss: 8.2695 - val_mae: 2.0758\n",
            "Epoch 61/500\n",
            "32/32 [==============================] - 0s 3ms/step - loss: 5.0282 - mae: 1.6827 - val_loss: 8.0618 - val_mae: 2.0364\n",
            "Epoch 62/500\n",
            "32/32 [==============================] - 0s 3ms/step - loss: 5.0707 - mae: 1.6899 - val_loss: 8.4473 - val_mae: 2.1304\n",
            "Epoch 63/500\n",
            "32/32 [==============================] - 0s 2ms/step - loss: 4.9647 - mae: 1.6694 - val_loss: 8.4487 - val_mae: 2.1254\n",
            "Epoch 64/500\n",
            "32/32 [==============================] - 0s 3ms/step - loss: 4.8454 - mae: 1.6492 - val_loss: 8.6789 - val_mae: 2.2114\n",
            "Epoch 65/500\n",
            "32/32 [==============================] - 0s 3ms/step - loss: 4.9757 - mae: 1.6620 - val_loss: 8.2909 - val_mae: 2.0553\n",
            "Epoch 66/500\n",
            "32/32 [==============================] - 0s 3ms/step - loss: 4.8941 - mae: 1.6570 - val_loss: 8.1087 - val_mae: 2.0625\n",
            "Epoch 67/500\n",
            "32/32 [==============================] - 0s 3ms/step - loss: 4.8256 - mae: 1.6418 - val_loss: 9.2309 - val_mae: 2.2637\n",
            "Epoch 68/500\n",
            "32/32 [==============================] - 0s 3ms/step - loss: 4.9817 - mae: 1.6823 - val_loss: 8.1256 - val_mae: 2.0545\n",
            "Epoch 69/500\n",
            "32/32 [==============================] - 0s 3ms/step - loss: 4.9531 - mae: 1.6764 - val_loss: 8.2185 - val_mae: 2.0720\n",
            "Epoch 70/500\n",
            "32/32 [==============================] - 0s 3ms/step - loss: 5.0183 - mae: 1.6695 - val_loss: 8.2767 - val_mae: 2.0748\n",
            "Epoch 71/500\n",
            "32/32 [==============================] - 0s 3ms/step - loss: 4.8037 - mae: 1.6304 - val_loss: 9.0452 - val_mae: 2.2556\n",
            "Epoch 72/500\n",
            "32/32 [==============================] - 0s 11ms/step - loss: 4.7602 - mae: 1.6630 - val_loss: 9.5505 - val_mae: 2.3352\n",
            "Epoch 73/500\n",
            "32/32 [==============================] - 0s 3ms/step - loss: 4.8647 - mae: 1.6564 - val_loss: 8.5601 - val_mae: 2.1478\n",
            "Epoch 74/500\n",
            "32/32 [==============================] - 0s 3ms/step - loss: 4.9023 - mae: 1.6490 - val_loss: 8.3917 - val_mae: 2.1153\n",
            "Epoch 75/500\n",
            "32/32 [==============================] - 0s 3ms/step - loss: 4.9292 - mae: 1.6404 - val_loss: 8.2768 - val_mae: 2.0792\n",
            "Epoch 76/500\n",
            "32/32 [==============================] - 0s 3ms/step - loss: 4.7779 - mae: 1.6362 - val_loss: 8.4459 - val_mae: 2.1087\n",
            "Epoch 77/500\n",
            "32/32 [==============================] - 0s 3ms/step - loss: 4.7883 - mae: 1.6632 - val_loss: 8.6438 - val_mae: 2.1698\n",
            "Epoch 78/500\n",
            "32/32 [==============================] - 0s 3ms/step - loss: 4.7948 - mae: 1.6527 - val_loss: 8.5967 - val_mae: 2.1492\n",
            "Epoch 79/500\n",
            "32/32 [==============================] - 0s 3ms/step - loss: 4.7550 - mae: 1.6323 - val_loss: 8.3262 - val_mae: 2.0773\n",
            "Epoch 80/500\n",
            "32/32 [==============================] - 0s 3ms/step - loss: 5.0175 - mae: 1.6109 - val_loss: 8.7717 - val_mae: 2.1922\n",
            "Epoch 81/500\n",
            "32/32 [==============================] - 0s 3ms/step - loss: 4.8222 - mae: 1.6178 - val_loss: 8.8174 - val_mae: 2.1839\n",
            "Epoch 82/500\n",
            "32/32 [==============================] - 0s 3ms/step - loss: 4.6006 - mae: 1.6302 - val_loss: 8.7262 - val_mae: 2.1881\n",
            "Epoch 83/500\n",
            "32/32 [==============================] - 0s 3ms/step - loss: 4.8339 - mae: 1.6423 - val_loss: 8.3574 - val_mae: 2.0956\n",
            "Epoch 84/500\n",
            "32/32 [==============================] - 0s 3ms/step - loss: 4.8657 - mae: 1.6015 - val_loss: 8.7031 - val_mae: 2.2002\n",
            "Epoch 85/500\n",
            "32/32 [==============================] - 0s 3ms/step - loss: 4.6127 - mae: 1.6173 - val_loss: 8.7728 - val_mae: 2.2185\n",
            "Epoch 86/500\n",
            "32/32 [==============================] - 0s 3ms/step - loss: 4.8866 - mae: 1.5953 - val_loss: 8.4741 - val_mae: 2.1392\n",
            "Epoch 87/500\n",
            "32/32 [==============================] - 0s 3ms/step - loss: 4.7909 - mae: 1.6191 - val_loss: 8.3702 - val_mae: 2.0756\n",
            "Epoch 88/500\n",
            "32/32 [==============================] - 0s 3ms/step - loss: 4.6648 - mae: 1.6243 - val_loss: 8.4357 - val_mae: 2.1243\n",
            "Epoch 89/500\n",
            "32/32 [==============================] - 0s 3ms/step - loss: 4.5948 - mae: 1.6087 - val_loss: 8.8217 - val_mae: 2.2227\n",
            "Epoch 90/500\n",
            "32/32 [==============================] - 0s 3ms/step - loss: 4.6819 - mae: 1.6012 - val_loss: 8.2590 - val_mae: 2.0375\n",
            "Epoch 91/500\n",
            "32/32 [==============================] - 0s 3ms/step - loss: 4.6478 - mae: 1.6348 - val_loss: 8.2430 - val_mae: 2.0635\n",
            "Epoch 92/500\n",
            "32/32 [==============================] - 0s 3ms/step - loss: 4.5932 - mae: 1.6064 - val_loss: 8.5731 - val_mae: 2.1701\n",
            "Epoch 93/500\n",
            "32/32 [==============================] - 0s 3ms/step - loss: 4.5845 - mae: 1.5889 - val_loss: 8.7285 - val_mae: 2.2009\n",
            "Epoch 94/500\n",
            "32/32 [==============================] - 0s 3ms/step - loss: 4.7283 - mae: 1.5877 - val_loss: 8.3886 - val_mae: 2.1218\n",
            "Epoch 95/500\n",
            "32/32 [==============================] - 0s 3ms/step - loss: 4.5730 - mae: 1.5665 - val_loss: 9.8797 - val_mae: 2.4702\n",
            "Epoch 96/500\n",
            "32/32 [==============================] - 0s 3ms/step - loss: 4.3811 - mae: 1.5875 - val_loss: 8.2942 - val_mae: 2.0574\n",
            "Epoch 97/500\n",
            "32/32 [==============================] - 0s 3ms/step - loss: 4.6821 - mae: 1.5747 - val_loss: 8.5110 - val_mae: 2.1574\n",
            "Epoch 98/500\n",
            "32/32 [==============================] - 0s 3ms/step - loss: 4.6554 - mae: 1.5984 - val_loss: 8.3236 - val_mae: 2.0952\n",
            "Epoch 99/500\n",
            "32/32 [==============================] - 0s 3ms/step - loss: 4.4491 - mae: 1.5842 - val_loss: 9.3897 - val_mae: 2.3177\n",
            "Epoch 100/500\n",
            "32/32 [==============================] - 0s 3ms/step - loss: 4.6159 - mae: 1.5886 - val_loss: 8.7831 - val_mae: 2.2111\n",
            "Epoch 101/500\n",
            "32/32 [==============================] - 0s 3ms/step - loss: 4.4379 - mae: 1.5846 - val_loss: 8.3207 - val_mae: 2.0628\n",
            "Epoch 102/500\n",
            "32/32 [==============================] - 0s 3ms/step - loss: 4.5743 - mae: 1.6030 - val_loss: 8.4366 - val_mae: 2.1152\n",
            "Epoch 103/500\n",
            "32/32 [==============================] - 0s 3ms/step - loss: 4.4096 - mae: 1.5596 - val_loss: 8.2981 - val_mae: 2.0434\n",
            "Epoch 104/500\n",
            "32/32 [==============================] - 0s 3ms/step - loss: 4.6452 - mae: 1.6193 - val_loss: 8.4296 - val_mae: 2.1315\n",
            "Epoch 105/500\n",
            "32/32 [==============================] - 0s 3ms/step - loss: 4.4859 - mae: 1.5775 - val_loss: 9.3041 - val_mae: 2.3247\n",
            "Epoch 106/500\n",
            "32/32 [==============================] - 0s 3ms/step - loss: 4.4226 - mae: 1.5603 - val_loss: 8.8844 - val_mae: 2.2259\n",
            "Epoch 107/500\n",
            "32/32 [==============================] - 0s 3ms/step - loss: 4.4183 - mae: 1.5640 - val_loss: 8.7350 - val_mae: 2.2045\n",
            "Epoch 108/500\n",
            "32/32 [==============================] - 0s 3ms/step - loss: 4.3921 - mae: 1.5869 - val_loss: 8.2406 - val_mae: 2.0431\n",
            "Epoch 109/500\n",
            "32/32 [==============================] - 0s 3ms/step - loss: 4.4643 - mae: 1.5701 - val_loss: 8.6963 - val_mae: 2.1914\n",
            "Epoch 110/500\n",
            "32/32 [==============================] - 0s 3ms/step - loss: 4.5774 - mae: 1.5852 - val_loss: 9.2506 - val_mae: 2.2794\n",
            "Epoch 111/500\n",
            "32/32 [==============================] - 0s 3ms/step - loss: 4.4025 - mae: 1.5546 - val_loss: 9.8108 - val_mae: 2.4000\n",
            "Epoch 112/500\n",
            "32/32 [==============================] - 0s 3ms/step - loss: 4.3941 - mae: 1.5780 - val_loss: 8.4904 - val_mae: 2.1281\n",
            "Epoch 113/500\n",
            "32/32 [==============================] - 0s 3ms/step - loss: 4.3256 - mae: 1.5396 - val_loss: 8.8351 - val_mae: 2.2341\n",
            "Epoch 114/500\n",
            "32/32 [==============================] - 0s 3ms/step - loss: 4.5143 - mae: 1.5585 - val_loss: 8.8212 - val_mae: 2.2230\n",
            "Epoch 115/500\n",
            "32/32 [==============================] - 0s 3ms/step - loss: 4.4766 - mae: 1.5409 - val_loss: 8.4457 - val_mae: 2.1152\n",
            "Epoch 116/500\n",
            "32/32 [==============================] - 0s 3ms/step - loss: 4.4459 - mae: 1.5333 - val_loss: 9.0945 - val_mae: 2.2696\n",
            "Epoch 117/500\n",
            "32/32 [==============================] - 0s 3ms/step - loss: 4.2832 - mae: 1.5480 - val_loss: 9.2272 - val_mae: 2.3395\n",
            "Epoch 118/500\n",
            "32/32 [==============================] - 0s 3ms/step - loss: 4.3801 - mae: 1.5542 - val_loss: 9.0700 - val_mae: 2.2752\n",
            "Epoch 119/500\n",
            "32/32 [==============================] - 0s 3ms/step - loss: 4.6419 - mae: 1.5592 - val_loss: 9.1510 - val_mae: 2.2798\n",
            "Epoch 120/500\n",
            "32/32 [==============================] - 0s 3ms/step - loss: 4.2446 - mae: 1.5589 - val_loss: 9.4614 - val_mae: 2.3572\n",
            "Epoch 121/500\n",
            "32/32 [==============================] - 0s 3ms/step - loss: 4.4112 - mae: 1.5524 - val_loss: 8.4135 - val_mae: 2.1116\n",
            "Epoch 122/500\n",
            "32/32 [==============================] - 0s 3ms/step - loss: 4.4250 - mae: 1.5685 - val_loss: 9.2398 - val_mae: 2.3071\n",
            "Epoch 123/500\n",
            "32/32 [==============================] - 0s 3ms/step - loss: 4.3606 - mae: 1.5327 - val_loss: 9.3029 - val_mae: 2.3035\n",
            "Epoch 124/500\n",
            "32/32 [==============================] - 0s 3ms/step - loss: 4.2388 - mae: 1.5405 - val_loss: 10.5504 - val_mae: 2.4623\n",
            "Epoch 125/500\n",
            "32/32 [==============================] - 0s 3ms/step - loss: 4.3354 - mae: 1.5401 - val_loss: 9.0391 - val_mae: 2.3002\n",
            "Epoch 126/500\n",
            "32/32 [==============================] - 0s 3ms/step - loss: 4.4007 - mae: 1.5048 - val_loss: 8.4834 - val_mae: 2.1431\n",
            "Epoch 127/500\n",
            "32/32 [==============================] - 0s 3ms/step - loss: 4.2334 - mae: 1.5288 - val_loss: 8.5616 - val_mae: 2.1664\n",
            "Epoch 128/500\n",
            "32/32 [==============================] - 0s 3ms/step - loss: 4.1384 - mae: 1.5376 - val_loss: 8.7568 - val_mae: 2.1088\n",
            "Epoch 129/500\n",
            "32/32 [==============================] - 0s 3ms/step - loss: 4.5810 - mae: 1.5256 - val_loss: 10.0366 - val_mae: 2.4236\n",
            "Epoch 130/500\n",
            "32/32 [==============================] - 0s 3ms/step - loss: 4.1996 - mae: 1.5228 - val_loss: 8.5537 - val_mae: 2.1440\n",
            "Epoch 131/500\n",
            "32/32 [==============================] - 0s 3ms/step - loss: 4.4095 - mae: 1.5195 - val_loss: 9.5941 - val_mae: 2.3518\n",
            "Epoch 132/500\n",
            "32/32 [==============================] - 0s 3ms/step - loss: 4.2379 - mae: 1.5361 - val_loss: 8.7354 - val_mae: 2.2016\n",
            "Epoch 133/500\n",
            "32/32 [==============================] - 0s 3ms/step - loss: 4.3022 - mae: 1.5142 - val_loss: 8.5557 - val_mae: 2.1643\n",
            "Epoch 134/500\n",
            "32/32 [==============================] - 0s 3ms/step - loss: 4.1290 - mae: 1.4931 - val_loss: 9.7285 - val_mae: 2.3705\n",
            "Epoch 135/500\n",
            "32/32 [==============================] - 0s 3ms/step - loss: 4.2051 - mae: 1.5270 - val_loss: 8.4817 - val_mae: 2.0656\n",
            "Epoch 136/500\n",
            "32/32 [==============================] - 0s 3ms/step - loss: 4.2540 - mae: 1.5465 - val_loss: 9.1333 - val_mae: 2.2998\n",
            "Epoch 137/500\n",
            "32/32 [==============================] - 0s 3ms/step - loss: 4.3562 - mae: 1.5183 - val_loss: 8.7424 - val_mae: 2.2002\n",
            "Epoch 138/500\n",
            "32/32 [==============================] - 0s 3ms/step - loss: 4.2942 - mae: 1.5301 - val_loss: 8.6047 - val_mae: 2.1759\n",
            "Epoch 139/500\n",
            "32/32 [==============================] - 0s 3ms/step - loss: 4.1891 - mae: 1.4982 - val_loss: 8.9130 - val_mae: 2.2473\n",
            "Epoch 140/500\n",
            "32/32 [==============================] - 0s 3ms/step - loss: 4.2610 - mae: 1.5231 - val_loss: 8.5467 - val_mae: 2.1681\n",
            "Epoch 141/500\n",
            "32/32 [==============================] - 0s 3ms/step - loss: 4.0767 - mae: 1.5192 - val_loss: 8.7190 - val_mae: 2.2046\n",
            "Epoch 142/500\n",
            "32/32 [==============================] - 0s 3ms/step - loss: 4.1834 - mae: 1.5225 - val_loss: 8.5156 - val_mae: 2.1305\n",
            "Epoch 143/500\n",
            "32/32 [==============================] - 0s 3ms/step - loss: 4.0668 - mae: 1.5079 - val_loss: 9.1842 - val_mae: 2.3229\n",
            "Epoch 144/500\n",
            "32/32 [==============================] - 0s 3ms/step - loss: 4.1118 - mae: 1.5154 - val_loss: 8.8242 - val_mae: 2.2413\n",
            "Epoch 145/500\n",
            "32/32 [==============================] - 0s 3ms/step - loss: 4.0505 - mae: 1.4977 - val_loss: 8.7724 - val_mae: 2.2404\n",
            "Epoch 146/500\n",
            "32/32 [==============================] - 0s 3ms/step - loss: 3.9496 - mae: 1.4572 - val_loss: 9.7279 - val_mae: 2.3689\n",
            "Epoch 147/500\n",
            "32/32 [==============================] - 0s 3ms/step - loss: 4.0535 - mae: 1.4915 - val_loss: 8.6037 - val_mae: 2.1572\n",
            "Epoch 148/500\n",
            "32/32 [==============================] - 0s 3ms/step - loss: 4.0737 - mae: 1.5150 - val_loss: 8.7491 - val_mae: 2.1954\n",
            "Epoch 149/500\n",
            "32/32 [==============================] - 0s 3ms/step - loss: 4.0602 - mae: 1.4878 - val_loss: 9.4168 - val_mae: 2.3527\n",
            "Epoch 150/500\n",
            "32/32 [==============================] - 0s 3ms/step - loss: 4.0978 - mae: 1.4990 - val_loss: 8.7919 - val_mae: 2.2015\n",
            "Epoch 151/500\n",
            "32/32 [==============================] - 0s 3ms/step - loss: 4.0733 - mae: 1.4766 - val_loss: 8.7468 - val_mae: 2.1748\n",
            "Epoch 152/500\n",
            "32/32 [==============================] - 0s 3ms/step - loss: 4.0369 - mae: 1.4918 - val_loss: 8.9657 - val_mae: 2.2391\n",
            "Epoch 153/500\n",
            "32/32 [==============================] - 0s 3ms/step - loss: 4.0639 - mae: 1.4993 - val_loss: 8.8508 - val_mae: 2.2067\n",
            "Epoch 154/500\n",
            "32/32 [==============================] - 0s 3ms/step - loss: 3.9914 - mae: 1.4552 - val_loss: 8.5355 - val_mae: 2.0733\n",
            "Epoch 155/500\n",
            "32/32 [==============================] - 0s 3ms/step - loss: 4.0301 - mae: 1.4401 - val_loss: 8.7980 - val_mae: 2.2074\n",
            "Epoch 156/500\n",
            "32/32 [==============================] - 0s 3ms/step - loss: 4.3547 - mae: 1.4808 - val_loss: 8.9263 - val_mae: 2.2234\n",
            "Epoch 157/500\n",
            "32/32 [==============================] - 0s 3ms/step - loss: 3.9315 - mae: 1.4769 - val_loss: 8.9059 - val_mae: 2.2237\n",
            "Epoch 158/500\n",
            "32/32 [==============================] - 0s 3ms/step - loss: 3.9026 - mae: 1.4301 - val_loss: 9.4492 - val_mae: 2.3296\n",
            "Epoch 159/500\n",
            "32/32 [==============================] - 0s 3ms/step - loss: 3.9458 - mae: 1.4886 - val_loss: 9.3149 - val_mae: 2.3065\n",
            "Epoch 160/500\n",
            "32/32 [==============================] - 0s 3ms/step - loss: 3.9973 - mae: 1.4863 - val_loss: 9.0569 - val_mae: 2.2636\n",
            "Epoch 161/500\n",
            "32/32 [==============================] - 0s 3ms/step - loss: 4.0624 - mae: 1.4926 - val_loss: 8.8250 - val_mae: 2.1950\n",
            "Epoch 162/500\n",
            "32/32 [==============================] - 0s 3ms/step - loss: 3.8526 - mae: 1.4663 - val_loss: 8.8765 - val_mae: 2.2049\n",
            "Epoch 163/500\n",
            "32/32 [==============================] - 0s 3ms/step - loss: 3.9954 - mae: 1.4642 - val_loss: 8.7249 - val_mae: 2.1676\n",
            "Epoch 164/500\n",
            "32/32 [==============================] - 0s 3ms/step - loss: 4.2297 - mae: 1.4796 - val_loss: 8.7379 - val_mae: 2.1529\n",
            "Epoch 165/500\n",
            "32/32 [==============================] - 0s 2ms/step - loss: 3.9197 - mae: 1.4556 - val_loss: 8.6389 - val_mae: 2.1503\n",
            "Epoch 166/500\n",
            "32/32 [==============================] - 0s 3ms/step - loss: 3.8449 - mae: 1.4772 - val_loss: 9.3354 - val_mae: 2.3018\n",
            "Epoch 167/500\n",
            "32/32 [==============================] - 0s 3ms/step - loss: 3.9562 - mae: 1.4667 - val_loss: 9.0653 - val_mae: 2.2651\n",
            "Epoch 168/500\n",
            "32/32 [==============================] - 0s 3ms/step - loss: 3.9562 - mae: 1.4363 - val_loss: 9.1177 - val_mae: 2.2734\n",
            "Epoch 169/500\n",
            "32/32 [==============================] - 0s 3ms/step - loss: 3.8497 - mae: 1.4477 - val_loss: 8.8261 - val_mae: 2.1772\n",
            "Epoch 170/500\n",
            "32/32 [==============================] - 0s 3ms/step - loss: 3.9814 - mae: 1.4734 - val_loss: 9.0140 - val_mae: 2.2007\n",
            "Epoch 171/500\n",
            "32/32 [==============================] - 0s 3ms/step - loss: 4.0054 - mae: 1.4630 - val_loss: 9.5689 - val_mae: 2.3761\n",
            "Epoch 172/500\n",
            "32/32 [==============================] - 0s 3ms/step - loss: 3.8938 - mae: 1.4705 - val_loss: 8.8472 - val_mae: 2.2037\n",
            "Epoch 173/500\n",
            "32/32 [==============================] - 0s 3ms/step - loss: 3.9141 - mae: 1.4614 - val_loss: 9.1950 - val_mae: 2.2757\n",
            "Epoch 174/500\n",
            "32/32 [==============================] - 0s 3ms/step - loss: 3.8851 - mae: 1.4320 - val_loss: 9.0456 - val_mae: 2.2517\n",
            "Epoch 175/500\n",
            "32/32 [==============================] - 0s 3ms/step - loss: 3.9955 - mae: 1.4677 - val_loss: 8.8950 - val_mae: 2.1266\n",
            "Epoch 176/500\n",
            "32/32 [==============================] - 0s 3ms/step - loss: 3.9137 - mae: 1.4051 - val_loss: 9.3909 - val_mae: 2.3031\n",
            "Epoch 177/500\n",
            "32/32 [==============================] - 0s 3ms/step - loss: 3.8316 - mae: 1.4518 - val_loss: 9.9030 - val_mae: 2.4417\n",
            "Epoch 178/500\n",
            "32/32 [==============================] - 0s 3ms/step - loss: 3.9218 - mae: 1.4348 - val_loss: 8.9815 - val_mae: 2.2272\n",
            "Epoch 179/500\n",
            "32/32 [==============================] - 0s 3ms/step - loss: 3.7955 - mae: 1.4367 - val_loss: 9.1162 - val_mae: 2.2675\n",
            "Epoch 180/500\n",
            "32/32 [==============================] - 0s 3ms/step - loss: 3.8030 - mae: 1.4122 - val_loss: 8.7103 - val_mae: 2.1795\n",
            "Epoch 181/500\n",
            "32/32 [==============================] - 0s 3ms/step - loss: 3.7635 - mae: 1.4098 - val_loss: 8.9907 - val_mae: 2.2447\n",
            "Epoch 182/500\n",
            "32/32 [==============================] - 0s 3ms/step - loss: 3.8937 - mae: 1.4276 - val_loss: 9.2100 - val_mae: 2.3030\n",
            "Epoch 183/500\n",
            "32/32 [==============================] - 0s 3ms/step - loss: 3.8446 - mae: 1.4365 - val_loss: 9.7850 - val_mae: 2.3975\n",
            "Epoch 184/500\n",
            "32/32 [==============================] - 0s 3ms/step - loss: 3.7078 - mae: 1.4109 - val_loss: 9.0535 - val_mae: 2.2553\n",
            "Epoch 185/500\n",
            "32/32 [==============================] - 0s 3ms/step - loss: 3.7480 - mae: 1.3705 - val_loss: 8.9060 - val_mae: 2.2243\n",
            "Epoch 186/500\n",
            "32/32 [==============================] - 0s 3ms/step - loss: 3.9186 - mae: 1.4263 - val_loss: 10.2806 - val_mae: 2.4821\n",
            "Epoch 187/500\n",
            "32/32 [==============================] - 0s 3ms/step - loss: 3.7146 - mae: 1.4092 - val_loss: 8.7772 - val_mae: 2.1665\n",
            "Epoch 188/500\n",
            "32/32 [==============================] - 0s 3ms/step - loss: 3.7543 - mae: 1.4236 - val_loss: 9.5036 - val_mae: 2.3660\n",
            "Epoch 189/500\n",
            "32/32 [==============================] - 0s 3ms/step - loss: 3.8174 - mae: 1.4222 - val_loss: 8.9993 - val_mae: 2.2484\n",
            "Epoch 190/500\n",
            "32/32 [==============================] - 0s 3ms/step - loss: 3.7648 - mae: 1.4120 - val_loss: 8.9159 - val_mae: 2.2297\n",
            "Epoch 191/500\n",
            "32/32 [==============================] - 0s 3ms/step - loss: 3.8759 - mae: 1.4417 - val_loss: 9.2171 - val_mae: 2.3254\n",
            "Epoch 192/500\n",
            "32/32 [==============================] - 0s 3ms/step - loss: 3.7290 - mae: 1.4066 - val_loss: 9.1891 - val_mae: 2.3062\n",
            "Epoch 193/500\n",
            "32/32 [==============================] - 0s 3ms/step - loss: 3.6482 - mae: 1.4132 - val_loss: 8.8866 - val_mae: 2.0811\n",
            "Epoch 194/500\n",
            "32/32 [==============================] - 0s 3ms/step - loss: 3.7892 - mae: 1.4148 - val_loss: 9.2072 - val_mae: 2.3117\n",
            "Epoch 195/500\n",
            "32/32 [==============================] - 0s 3ms/step - loss: 3.7440 - mae: 1.4054 - val_loss: 9.5203 - val_mae: 2.3555\n",
            "Epoch 196/500\n",
            "32/32 [==============================] - 0s 3ms/step - loss: 3.7949 - mae: 1.4264 - val_loss: 9.3773 - val_mae: 2.3156\n",
            "Epoch 197/500\n",
            "32/32 [==============================] - 0s 3ms/step - loss: 3.6083 - mae: 1.4013 - val_loss: 8.9758 - val_mae: 2.2358\n",
            "Epoch 198/500\n",
            "32/32 [==============================] - 0s 3ms/step - loss: 3.7967 - mae: 1.4063 - val_loss: 9.0952 - val_mae: 2.2584\n",
            "Epoch 199/500\n",
            "32/32 [==============================] - 0s 3ms/step - loss: 3.7122 - mae: 1.4045 - val_loss: 9.2689 - val_mae: 2.2880\n",
            "Epoch 200/500\n",
            "32/32 [==============================] - 0s 3ms/step - loss: 3.8837 - mae: 1.4169 - val_loss: 9.0596 - val_mae: 2.2445\n",
            "Epoch 201/500\n",
            "32/32 [==============================] - 0s 3ms/step - loss: 4.0203 - mae: 1.3907 - val_loss: 9.1637 - val_mae: 2.2761\n",
            "Epoch 202/500\n",
            "32/32 [==============================] - 0s 3ms/step - loss: 3.7051 - mae: 1.3944 - val_loss: 9.0675 - val_mae: 2.2653\n",
            "Epoch 203/500\n",
            "32/32 [==============================] - 0s 3ms/step - loss: 3.6206 - mae: 1.3797 - val_loss: 9.0909 - val_mae: 2.2502\n",
            "Epoch 204/500\n",
            "32/32 [==============================] - 0s 3ms/step - loss: 3.6813 - mae: 1.3878 - val_loss: 9.3819 - val_mae: 2.3631\n",
            "Epoch 205/500\n",
            "32/32 [==============================] - 0s 3ms/step - loss: 3.7291 - mae: 1.3955 - val_loss: 8.9056 - val_mae: 2.1648\n",
            "Epoch 206/500\n",
            "32/32 [==============================] - 0s 3ms/step - loss: 3.6378 - mae: 1.3949 - val_loss: 8.9344 - val_mae: 2.2140\n",
            "Epoch 207/500\n",
            "32/32 [==============================] - 0s 3ms/step - loss: 3.7213 - mae: 1.3834 - val_loss: 9.0313 - val_mae: 2.1556\n",
            "Epoch 208/500\n",
            "32/32 [==============================] - 0s 3ms/step - loss: 3.6739 - mae: 1.3949 - val_loss: 9.3144 - val_mae: 2.2785\n",
            "Epoch 209/500\n",
            "32/32 [==============================] - 0s 3ms/step - loss: 3.7011 - mae: 1.4119 - val_loss: 9.1037 - val_mae: 2.2487\n",
            "Epoch 210/500\n",
            "32/32 [==============================] - 0s 3ms/step - loss: 3.7448 - mae: 1.4020 - val_loss: 9.0039 - val_mae: 2.1621\n",
            "Epoch 211/500\n",
            "32/32 [==============================] - 0s 2ms/step - loss: 3.6955 - mae: 1.3911 - val_loss: 9.6479 - val_mae: 2.3741\n",
            "Epoch 212/500\n",
            "32/32 [==============================] - 0s 3ms/step - loss: 3.7332 - mae: 1.4004 - val_loss: 9.1862 - val_mae: 2.1817\n",
            "Epoch 213/500\n",
            "32/32 [==============================] - 0s 3ms/step - loss: 3.5308 - mae: 1.3918 - val_loss: 10.0023 - val_mae: 2.4176\n",
            "Epoch 214/500\n",
            "32/32 [==============================] - 0s 3ms/step - loss: 3.6559 - mae: 1.4037 - val_loss: 10.1403 - val_mae: 2.4466\n",
            "Epoch 215/500\n",
            "32/32 [==============================] - 0s 3ms/step - loss: 3.6025 - mae: 1.4063 - val_loss: 9.8751 - val_mae: 2.4130\n",
            "Epoch 216/500\n",
            "32/32 [==============================] - 0s 3ms/step - loss: 3.6067 - mae: 1.3819 - val_loss: 9.5071 - val_mae: 2.3170\n",
            "Epoch 217/500\n",
            "32/32 [==============================] - 0s 3ms/step - loss: 3.6050 - mae: 1.3623 - val_loss: 9.0475 - val_mae: 2.2018\n",
            "Epoch 218/500\n",
            "32/32 [==============================] - 0s 3ms/step - loss: 3.6360 - mae: 1.3600 - val_loss: 10.3368 - val_mae: 2.4443\n",
            "Epoch 219/500\n",
            "32/32 [==============================] - 0s 3ms/step - loss: 3.8082 - mae: 1.3901 - val_loss: 9.2271 - val_mae: 2.2009\n",
            "Epoch 220/500\n",
            "32/32 [==============================] - 0s 3ms/step - loss: 3.5118 - mae: 1.3596 - val_loss: 9.6365 - val_mae: 2.3173\n",
            "Epoch 221/500\n",
            "32/32 [==============================] - 0s 3ms/step - loss: 3.5848 - mae: 1.3793 - val_loss: 9.0940 - val_mae: 2.2210\n",
            "Epoch 222/500\n",
            "32/32 [==============================] - 0s 3ms/step - loss: 3.5640 - mae: 1.3507 - val_loss: 9.3625 - val_mae: 2.2865\n",
            "Epoch 223/500\n",
            "32/32 [==============================] - 0s 3ms/step - loss: 3.4379 - mae: 1.3620 - val_loss: 9.3065 - val_mae: 2.1791\n",
            "Epoch 224/500\n",
            "32/32 [==============================] - 0s 3ms/step - loss: 3.5400 - mae: 1.3756 - val_loss: 9.1845 - val_mae: 2.2142\n",
            "Epoch 225/500\n",
            "32/32 [==============================] - 0s 3ms/step - loss: 3.5717 - mae: 1.3543 - val_loss: 9.5522 - val_mae: 2.3174\n",
            "Epoch 226/500\n",
            "32/32 [==============================] - 0s 3ms/step - loss: 3.5769 - mae: 1.3609 - val_loss: 10.5018 - val_mae: 2.5162\n",
            "Epoch 227/500\n",
            "32/32 [==============================] - 0s 3ms/step - loss: 3.5991 - mae: 1.3610 - val_loss: 9.5441 - val_mae: 2.3081\n",
            "Epoch 228/500\n",
            "32/32 [==============================] - 0s 3ms/step - loss: 3.5222 - mae: 1.3533 - val_loss: 9.2058 - val_mae: 2.2216\n",
            "Epoch 229/500\n",
            "32/32 [==============================] - 0s 3ms/step - loss: 3.5702 - mae: 1.3684 - val_loss: 9.7875 - val_mae: 2.3731\n",
            "Epoch 230/500\n",
            "32/32 [==============================] - 0s 2ms/step - loss: 3.5044 - mae: 1.3602 - val_loss: 10.0417 - val_mae: 2.4221\n",
            "Epoch 231/500\n",
            "32/32 [==============================] - 0s 3ms/step - loss: 3.4595 - mae: 1.3464 - val_loss: 9.5882 - val_mae: 2.2680\n",
            "Epoch 232/500\n",
            "32/32 [==============================] - 0s 3ms/step - loss: 3.5775 - mae: 1.3884 - val_loss: 9.7444 - val_mae: 2.3580\n",
            "Epoch 233/500\n",
            "32/32 [==============================] - 0s 3ms/step - loss: 3.4997 - mae: 1.3372 - val_loss: 10.6412 - val_mae: 2.4834\n",
            "Epoch 234/500\n",
            "32/32 [==============================] - 0s 3ms/step - loss: 3.4637 - mae: 1.3510 - val_loss: 11.0464 - val_mae: 2.5711\n",
            "Epoch 235/500\n",
            "32/32 [==============================] - 0s 3ms/step - loss: 3.4374 - mae: 1.3271 - val_loss: 9.7422 - val_mae: 2.3837\n",
            "Epoch 236/500\n",
            "32/32 [==============================] - 0s 3ms/step - loss: 3.4939 - mae: 1.3398 - val_loss: 10.1154 - val_mae: 2.4175\n",
            "Epoch 237/500\n",
            "32/32 [==============================] - 0s 3ms/step - loss: 3.4455 - mae: 1.3340 - val_loss: 9.7283 - val_mae: 2.3614\n",
            "Epoch 238/500\n",
            "32/32 [==============================] - 0s 3ms/step - loss: 3.4061 - mae: 1.3146 - val_loss: 10.2185 - val_mae: 2.4472\n",
            "Epoch 239/500\n",
            "32/32 [==============================] - 0s 3ms/step - loss: 3.5350 - mae: 1.3442 - val_loss: 10.2588 - val_mae: 2.4271\n",
            "Epoch 240/500\n",
            "32/32 [==============================] - 0s 3ms/step - loss: 3.4210 - mae: 1.3348 - val_loss: 9.6530 - val_mae: 2.3359\n",
            "Epoch 241/500\n",
            "32/32 [==============================] - 0s 3ms/step - loss: 3.4430 - mae: 1.3469 - val_loss: 10.2174 - val_mae: 2.4392\n",
            "Epoch 242/500\n",
            "32/32 [==============================] - 0s 3ms/step - loss: 3.4903 - mae: 1.3333 - val_loss: 9.4449 - val_mae: 2.2986\n",
            "Epoch 243/500\n",
            "32/32 [==============================] - 0s 3ms/step - loss: 3.3395 - mae: 1.3268 - val_loss: 10.5601 - val_mae: 2.5295\n",
            "Epoch 244/500\n",
            "32/32 [==============================] - 0s 3ms/step - loss: 3.4443 - mae: 1.3575 - val_loss: 9.6156 - val_mae: 2.3188\n",
            "Epoch 245/500\n",
            "32/32 [==============================] - 0s 3ms/step - loss: 3.4971 - mae: 1.3269 - val_loss: 10.1041 - val_mae: 2.3789\n",
            "Epoch 246/500\n",
            "32/32 [==============================] - 0s 3ms/step - loss: 3.6188 - mae: 1.3033 - val_loss: 9.5026 - val_mae: 2.2652\n",
            "Epoch 247/500\n",
            "32/32 [==============================] - 0s 3ms/step - loss: 3.4652 - mae: 1.3348 - val_loss: 10.9064 - val_mae: 2.5453\n",
            "Epoch 248/500\n",
            "32/32 [==============================] - 0s 3ms/step - loss: 3.5474 - mae: 1.3185 - val_loss: 9.5560 - val_mae: 2.2834\n",
            "Epoch 249/500\n",
            "32/32 [==============================] - 0s 3ms/step - loss: 3.3110 - mae: 1.2972 - val_loss: 11.4792 - val_mae: 2.5614\n",
            "Epoch 250/500\n",
            "32/32 [==============================] - 0s 3ms/step - loss: 3.3904 - mae: 1.3226 - val_loss: 10.3854 - val_mae: 2.4198\n",
            "Epoch 251/500\n",
            "32/32 [==============================] - 0s 3ms/step - loss: 3.4188 - mae: 1.3243 - val_loss: 10.0107 - val_mae: 2.3674\n",
            "Epoch 252/500\n",
            "32/32 [==============================] - 0s 3ms/step - loss: 3.3782 - mae: 1.3136 - val_loss: 10.5627 - val_mae: 2.5114\n",
            "Epoch 253/500\n",
            "32/32 [==============================] - 0s 3ms/step - loss: 3.6906 - mae: 1.3430 - val_loss: 9.4986 - val_mae: 2.2049\n",
            "Epoch 254/500\n",
            "32/32 [==============================] - 0s 3ms/step - loss: 3.5413 - mae: 1.3394 - val_loss: 9.8067 - val_mae: 2.3171\n",
            "Epoch 255/500\n",
            "32/32 [==============================] - 0s 3ms/step - loss: 3.2774 - mae: 1.2969 - val_loss: 11.0537 - val_mae: 2.5457\n",
            "Epoch 256/500\n",
            "32/32 [==============================] - 0s 3ms/step - loss: 3.3506 - mae: 1.3363 - val_loss: 11.0725 - val_mae: 2.5434\n",
            "Epoch 257/500\n",
            "32/32 [==============================] - 0s 3ms/step - loss: 3.3962 - mae: 1.3276 - val_loss: 9.9152 - val_mae: 2.3429\n",
            "Epoch 258/500\n",
            "32/32 [==============================] - 0s 3ms/step - loss: 3.4001 - mae: 1.2980 - val_loss: 9.4911 - val_mae: 2.2497\n",
            "Epoch 259/500\n",
            "32/32 [==============================] - 0s 3ms/step - loss: 3.3169 - mae: 1.2966 - val_loss: 10.1351 - val_mae: 2.3542\n",
            "Epoch 260/500\n",
            "32/32 [==============================] - 0s 3ms/step - loss: 3.2797 - mae: 1.3141 - val_loss: 9.4687 - val_mae: 2.1956\n",
            "Epoch 261/500\n",
            "32/32 [==============================] - 0s 3ms/step - loss: 3.3959 - mae: 1.3066 - val_loss: 10.1225 - val_mae: 2.3748\n",
            "Epoch 262/500\n",
            "32/32 [==============================] - 0s 3ms/step - loss: 3.2943 - mae: 1.2923 - val_loss: 11.5501 - val_mae: 2.6069\n",
            "Epoch 263/500\n",
            "32/32 [==============================] - 0s 3ms/step - loss: 3.3314 - mae: 1.2953 - val_loss: 11.6913 - val_mae: 2.6337\n",
            "Epoch 264/500\n",
            "32/32 [==============================] - 0s 3ms/step - loss: 3.3576 - mae: 1.3102 - val_loss: 9.6956 - val_mae: 2.2874\n",
            "Epoch 265/500\n",
            "32/32 [==============================] - 0s 3ms/step - loss: 3.4207 - mae: 1.3151 - val_loss: 11.2249 - val_mae: 2.5774\n",
            "Epoch 266/500\n",
            "32/32 [==============================] - 0s 3ms/step - loss: 3.3517 - mae: 1.3117 - val_loss: 9.9050 - val_mae: 2.3171\n",
            "Epoch 267/500\n",
            "32/32 [==============================] - 0s 3ms/step - loss: 3.3194 - mae: 1.3037 - val_loss: 10.4960 - val_mae: 2.4141\n",
            "Epoch 268/500\n",
            "32/32 [==============================] - 0s 3ms/step - loss: 3.2908 - mae: 1.3061 - val_loss: 10.2328 - val_mae: 2.3836\n",
            "Epoch 269/500\n",
            "32/32 [==============================] - 0s 3ms/step - loss: 3.3485 - mae: 1.3169 - val_loss: 10.0995 - val_mae: 2.3909\n",
            "Epoch 270/500\n",
            "32/32 [==============================] - 0s 3ms/step - loss: 3.2854 - mae: 1.3224 - val_loss: 9.8706 - val_mae: 2.3096\n",
            "Epoch 271/500\n",
            "32/32 [==============================] - 0s 3ms/step - loss: 3.2403 - mae: 1.2862 - val_loss: 10.2935 - val_mae: 2.4068\n",
            "Epoch 272/500\n",
            "32/32 [==============================] - 0s 3ms/step - loss: 3.3750 - mae: 1.2893 - val_loss: 9.8630 - val_mae: 2.2768\n",
            "Epoch 273/500\n",
            "32/32 [==============================] - 0s 2ms/step - loss: 3.3151 - mae: 1.3050 - val_loss: 10.2983 - val_mae: 2.4087\n",
            "Epoch 274/500\n",
            "32/32 [==============================] - 0s 3ms/step - loss: 3.3761 - mae: 1.3035 - val_loss: 10.2034 - val_mae: 2.3635\n",
            "Epoch 275/500\n",
            "32/32 [==============================] - 0s 3ms/step - loss: 3.2370 - mae: 1.2619 - val_loss: 10.2237 - val_mae: 2.3622\n",
            "Epoch 276/500\n",
            "32/32 [==============================] - 0s 3ms/step - loss: 3.2796 - mae: 1.2514 - val_loss: 11.5255 - val_mae: 2.5736\n",
            "Epoch 277/500\n",
            "32/32 [==============================] - 0s 3ms/step - loss: 3.2380 - mae: 1.2921 - val_loss: 9.7769 - val_mae: 2.2481\n",
            "Epoch 278/500\n",
            "32/32 [==============================] - 0s 3ms/step - loss: 3.4192 - mae: 1.3076 - val_loss: 10.3899 - val_mae: 2.3937\n",
            "Epoch 279/500\n",
            "32/32 [==============================] - 0s 3ms/step - loss: 3.2890 - mae: 1.2829 - val_loss: 10.5502 - val_mae: 2.4243\n",
            "Epoch 280/500\n",
            "32/32 [==============================] - 0s 3ms/step - loss: 3.2412 - mae: 1.2923 - val_loss: 9.7219 - val_mae: 2.2124\n",
            "Epoch 281/500\n",
            "32/32 [==============================] - 0s 3ms/step - loss: 3.4307 - mae: 1.3038 - val_loss: 10.5734 - val_mae: 2.4185\n",
            "Epoch 282/500\n",
            "32/32 [==============================] - 0s 3ms/step - loss: 3.2208 - mae: 1.2686 - val_loss: 12.3743 - val_mae: 2.6539\n",
            "Epoch 283/500\n",
            "32/32 [==============================] - 0s 3ms/step - loss: 3.1917 - mae: 1.2958 - val_loss: 10.3128 - val_mae: 2.3784\n",
            "Epoch 284/500\n",
            "32/32 [==============================] - 0s 3ms/step - loss: 3.2454 - mae: 1.2694 - val_loss: 11.7141 - val_mae: 2.6118\n",
            "Epoch 285/500\n",
            "32/32 [==============================] - 0s 3ms/step - loss: 3.2597 - mae: 1.2759 - val_loss: 9.7598 - val_mae: 2.2280\n",
            "Epoch 286/500\n",
            "32/32 [==============================] - 0s 3ms/step - loss: 3.3161 - mae: 1.2929 - val_loss: 10.3691 - val_mae: 2.3598\n",
            "Epoch 287/500\n",
            "32/32 [==============================] - 0s 3ms/step - loss: 3.2077 - mae: 1.2993 - val_loss: 11.2428 - val_mae: 2.5247\n",
            "Epoch 288/500\n",
            "32/32 [==============================] - 0s 3ms/step - loss: 3.1723 - mae: 1.2836 - val_loss: 10.6783 - val_mae: 2.4409\n",
            "Epoch 289/500\n",
            "32/32 [==============================] - 0s 3ms/step - loss: 3.2311 - mae: 1.2808 - val_loss: 10.6109 - val_mae: 2.4404\n",
            "Epoch 290/500\n",
            "32/32 [==============================] - 0s 3ms/step - loss: 3.2234 - mae: 1.2861 - val_loss: 10.4920 - val_mae: 2.3985\n",
            "Epoch 291/500\n",
            "32/32 [==============================] - 0s 3ms/step - loss: 3.2421 - mae: 1.2716 - val_loss: 10.7506 - val_mae: 2.4360\n",
            "Epoch 292/500\n",
            "32/32 [==============================] - 0s 3ms/step - loss: 3.1750 - mae: 1.2750 - val_loss: 10.3488 - val_mae: 2.3539\n",
            "Epoch 293/500\n",
            "32/32 [==============================] - 0s 3ms/step - loss: 3.2001 - mae: 1.2785 - val_loss: 11.1613 - val_mae: 2.5079\n",
            "Epoch 294/500\n",
            "32/32 [==============================] - 0s 3ms/step - loss: 3.2404 - mae: 1.2729 - val_loss: 10.9755 - val_mae: 2.4666\n",
            "Epoch 295/500\n",
            "32/32 [==============================] - 0s 3ms/step - loss: 3.1214 - mae: 1.2554 - val_loss: 12.1730 - val_mae: 2.6188\n",
            "Epoch 296/500\n",
            "32/32 [==============================] - 0s 3ms/step - loss: 3.1902 - mae: 1.2920 - val_loss: 11.2422 - val_mae: 2.5104\n",
            "Epoch 297/500\n",
            "32/32 [==============================] - 0s 3ms/step - loss: 3.1932 - mae: 1.2630 - val_loss: 11.5565 - val_mae: 2.5649\n",
            "Epoch 298/500\n",
            "32/32 [==============================] - 0s 3ms/step - loss: 3.2657 - mae: 1.2958 - val_loss: 10.7354 - val_mae: 2.4524\n",
            "Epoch 299/500\n",
            "32/32 [==============================] - 0s 3ms/step - loss: 3.0845 - mae: 1.2504 - val_loss: 9.9379 - val_mae: 2.2517\n",
            "Epoch 300/500\n",
            "32/32 [==============================] - 0s 3ms/step - loss: 4.0077 - mae: 1.2681 - val_loss: 12.2174 - val_mae: 2.6291\n",
            "Epoch 301/500\n",
            "32/32 [==============================] - 0s 3ms/step - loss: 3.1950 - mae: 1.2789 - val_loss: 11.2958 - val_mae: 2.4958\n",
            "Epoch 302/500\n",
            "32/32 [==============================] - 0s 3ms/step - loss: 3.1945 - mae: 1.2835 - val_loss: 12.3758 - val_mae: 2.6726\n",
            "Epoch 303/500\n",
            "32/32 [==============================] - 0s 3ms/step - loss: 3.1297 - mae: 1.2776 - val_loss: 10.8780 - val_mae: 2.4486\n",
            "Epoch 304/500\n",
            "32/32 [==============================] - 0s 3ms/step - loss: 3.1963 - mae: 1.2741 - val_loss: 12.5473 - val_mae: 2.6881\n",
            "Epoch 305/500\n",
            "32/32 [==============================] - 0s 3ms/step - loss: 3.0993 - mae: 1.2661 - val_loss: 10.3477 - val_mae: 2.3333\n",
            "Epoch 306/500\n",
            "32/32 [==============================] - 0s 3ms/step - loss: 3.2238 - mae: 1.2729 - val_loss: 11.7220 - val_mae: 2.5790\n",
            "Epoch 307/500\n",
            "32/32 [==============================] - 0s 3ms/step - loss: 3.1457 - mae: 1.2598 - val_loss: 10.5721 - val_mae: 2.4066\n",
            "Epoch 308/500\n",
            "32/32 [==============================] - 0s 3ms/step - loss: 3.0434 - mae: 1.2217 - val_loss: 10.7458 - val_mae: 2.3908\n",
            "Epoch 309/500\n",
            "32/32 [==============================] - 0s 3ms/step - loss: 3.1807 - mae: 1.2610 - val_loss: 10.8901 - val_mae: 2.4397\n",
            "Epoch 310/500\n",
            "32/32 [==============================] - 0s 3ms/step - loss: 3.1810 - mae: 1.2578 - val_loss: 10.4579 - val_mae: 2.3577\n",
            "Epoch 311/500\n",
            "32/32 [==============================] - 0s 3ms/step - loss: 3.1302 - mae: 1.2469 - val_loss: 10.6854 - val_mae: 2.4488\n",
            "Epoch 312/500\n",
            "32/32 [==============================] - 0s 3ms/step - loss: 3.2532 - mae: 1.2617 - val_loss: 10.3451 - val_mae: 2.3209\n",
            "Epoch 313/500\n",
            "32/32 [==============================] - 0s 3ms/step - loss: 3.1082 - mae: 1.2341 - val_loss: 10.8799 - val_mae: 2.4564\n",
            "Epoch 314/500\n",
            "32/32 [==============================] - 0s 3ms/step - loss: 3.1770 - mae: 1.2499 - val_loss: 9.9504 - val_mae: 2.2427\n",
            "Epoch 315/500\n",
            "32/32 [==============================] - 0s 3ms/step - loss: 3.1368 - mae: 1.2733 - val_loss: 10.5758 - val_mae: 2.3994\n",
            "Epoch 316/500\n",
            "32/32 [==============================] - 0s 3ms/step - loss: 3.0209 - mae: 1.2281 - val_loss: 10.4768 - val_mae: 2.3939\n",
            "Epoch 317/500\n",
            "32/32 [==============================] - 0s 3ms/step - loss: 3.2336 - mae: 1.2806 - val_loss: 10.1412 - val_mae: 2.2992\n",
            "Epoch 318/500\n",
            "32/32 [==============================] - 0s 3ms/step - loss: 3.1585 - mae: 1.2655 - val_loss: 10.9212 - val_mae: 2.4271\n",
            "Epoch 319/500\n",
            "32/32 [==============================] - 0s 3ms/step - loss: 3.1077 - mae: 1.2628 - val_loss: 10.7210 - val_mae: 2.4142\n",
            "Epoch 320/500\n",
            "32/32 [==============================] - 0s 3ms/step - loss: 3.1838 - mae: 1.2560 - val_loss: 11.8987 - val_mae: 2.6106\n",
            "Epoch 321/500\n",
            "32/32 [==============================] - 0s 3ms/step - loss: 3.1138 - mae: 1.2264 - val_loss: 12.8899 - val_mae: 2.7417\n",
            "Epoch 322/500\n",
            "32/32 [==============================] - 0s 3ms/step - loss: 3.1445 - mae: 1.2612 - val_loss: 12.1926 - val_mae: 2.6162\n",
            "Epoch 323/500\n",
            "32/32 [==============================] - 0s 3ms/step - loss: 3.1298 - mae: 1.2638 - val_loss: 10.6572 - val_mae: 2.3667\n",
            "Epoch 324/500\n",
            "32/32 [==============================] - 0s 3ms/step - loss: 3.0774 - mae: 1.2474 - val_loss: 12.2364 - val_mae: 2.6492\n",
            "Epoch 325/500\n",
            "32/32 [==============================] - 0s 3ms/step - loss: 3.0156 - mae: 1.2473 - val_loss: 10.4322 - val_mae: 2.3338\n",
            "Epoch 326/500\n",
            "32/32 [==============================] - 0s 3ms/step - loss: 3.1808 - mae: 1.2558 - val_loss: 10.6037 - val_mae: 2.3913\n",
            "Epoch 327/500\n",
            "32/32 [==============================] - 0s 3ms/step - loss: 3.0653 - mae: 1.2245 - val_loss: 11.1411 - val_mae: 2.4612\n",
            "Epoch 328/500\n",
            "32/32 [==============================] - 0s 3ms/step - loss: 3.1831 - mae: 1.2379 - val_loss: 11.0347 - val_mae: 2.4538\n",
            "Epoch 329/500\n",
            "32/32 [==============================] - 0s 3ms/step - loss: 3.0709 - mae: 1.2468 - val_loss: 11.0262 - val_mae: 2.4499\n",
            "Epoch 330/500\n",
            "32/32 [==============================] - 0s 3ms/step - loss: 3.0973 - mae: 1.2584 - val_loss: 10.8764 - val_mae: 2.4397\n",
            "Epoch 331/500\n",
            "32/32 [==============================] - 0s 3ms/step - loss: 3.0390 - mae: 1.2265 - val_loss: 10.6988 - val_mae: 2.3978\n",
            "Epoch 332/500\n",
            "32/32 [==============================] - 0s 3ms/step - loss: 3.0775 - mae: 1.2620 - val_loss: 10.1665 - val_mae: 2.2579\n",
            "Epoch 333/500\n",
            "32/32 [==============================] - 0s 3ms/step - loss: 3.1839 - mae: 1.2429 - val_loss: 11.7027 - val_mae: 2.5692\n",
            "Epoch 334/500\n",
            "32/32 [==============================] - 0s 3ms/step - loss: 3.1126 - mae: 1.2294 - val_loss: 11.0016 - val_mae: 2.3989\n",
            "Epoch 335/500\n",
            "32/32 [==============================] - 0s 3ms/step - loss: 3.2220 - mae: 1.2586 - val_loss: 10.9863 - val_mae: 2.3747\n",
            "Epoch 336/500\n",
            "32/32 [==============================] - 0s 3ms/step - loss: 3.0451 - mae: 1.2348 - val_loss: 10.5396 - val_mae: 2.3627\n",
            "Epoch 337/500\n",
            "32/32 [==============================] - 0s 3ms/step - loss: 3.0813 - mae: 1.2381 - val_loss: 11.2930 - val_mae: 2.4692\n",
            "Epoch 338/500\n",
            "32/32 [==============================] - 0s 3ms/step - loss: 3.0542 - mae: 1.2514 - val_loss: 11.9315 - val_mae: 2.5566\n",
            "Epoch 339/500\n",
            "32/32 [==============================] - 0s 3ms/step - loss: 3.0091 - mae: 1.2407 - val_loss: 10.9865 - val_mae: 2.4289\n",
            "Epoch 340/500\n",
            "32/32 [==============================] - 0s 3ms/step - loss: 2.9563 - mae: 1.2194 - val_loss: 11.1693 - val_mae: 2.4669\n",
            "Epoch 341/500\n",
            "32/32 [==============================] - 0s 3ms/step - loss: 3.1603 - mae: 1.2336 - val_loss: 11.3681 - val_mae: 2.4937\n",
            "Epoch 342/500\n",
            "32/32 [==============================] - 0s 3ms/step - loss: 3.0239 - mae: 1.2310 - val_loss: 10.6984 - val_mae: 2.3762\n",
            "Epoch 343/500\n",
            "32/32 [==============================] - 0s 3ms/step - loss: 3.1777 - mae: 1.2450 - val_loss: 11.1662 - val_mae: 2.4720\n",
            "Epoch 344/500\n",
            "32/32 [==============================] - 0s 3ms/step - loss: 2.9902 - mae: 1.2393 - val_loss: 10.5264 - val_mae: 2.3268\n",
            "Epoch 345/500\n",
            "32/32 [==============================] - 0s 3ms/step - loss: 2.9525 - mae: 1.2096 - val_loss: 12.1854 - val_mae: 2.6031\n",
            "Epoch 346/500\n",
            "32/32 [==============================] - 0s 3ms/step - loss: 3.1236 - mae: 1.2747 - val_loss: 10.9456 - val_mae: 2.4459\n",
            "Epoch 347/500\n",
            "32/32 [==============================] - 0s 3ms/step - loss: 2.8929 - mae: 1.1922 - val_loss: 10.4907 - val_mae: 2.3156\n",
            "Epoch 348/500\n",
            "32/32 [==============================] - 0s 3ms/step - loss: 2.9958 - mae: 1.2298 - val_loss: 10.6905 - val_mae: 2.3767\n",
            "Epoch 349/500\n",
            "32/32 [==============================] - 0s 3ms/step - loss: 3.0037 - mae: 1.2416 - val_loss: 10.7126 - val_mae: 2.3968\n",
            "Epoch 350/500\n",
            "32/32 [==============================] - 0s 3ms/step - loss: 2.9652 - mae: 1.2105 - val_loss: 13.2448 - val_mae: 2.6898\n",
            "Epoch 351/500\n",
            "32/32 [==============================] - 0s 3ms/step - loss: 3.0204 - mae: 1.2383 - val_loss: 11.2269 - val_mae: 2.4820\n",
            "Epoch 352/500\n",
            "32/32 [==============================] - 0s 3ms/step - loss: 2.9577 - mae: 1.2416 - val_loss: 10.8264 - val_mae: 2.4000\n",
            "Epoch 353/500\n",
            "32/32 [==============================] - 0s 3ms/step - loss: 2.8524 - mae: 1.1925 - val_loss: 10.3903 - val_mae: 2.3284\n",
            "Epoch 354/500\n",
            "32/32 [==============================] - 0s 3ms/step - loss: 3.1991 - mae: 1.2246 - val_loss: 11.1367 - val_mae: 2.4771\n",
            "Epoch 355/500\n",
            "32/32 [==============================] - 0s 3ms/step - loss: 2.9861 - mae: 1.2430 - val_loss: 11.0848 - val_mae: 2.4157\n",
            "Epoch 356/500\n",
            "32/32 [==============================] - 0s 3ms/step - loss: 2.9296 - mae: 1.2249 - val_loss: 12.9017 - val_mae: 2.6716\n",
            "Epoch 357/500\n",
            "32/32 [==============================] - 0s 3ms/step - loss: 3.0521 - mae: 1.2483 - val_loss: 11.2066 - val_mae: 2.4478\n",
            "Epoch 358/500\n",
            "32/32 [==============================] - 0s 3ms/step - loss: 3.1406 - mae: 1.2220 - val_loss: 10.7273 - val_mae: 2.3515\n",
            "Epoch 359/500\n",
            "32/32 [==============================] - 0s 3ms/step - loss: 3.0451 - mae: 1.2331 - val_loss: 11.4215 - val_mae: 2.4913\n",
            "Epoch 360/500\n",
            "32/32 [==============================] - 0s 3ms/step - loss: 2.9974 - mae: 1.2274 - val_loss: 11.1280 - val_mae: 2.4407\n",
            "Epoch 361/500\n",
            "32/32 [==============================] - 0s 3ms/step - loss: 2.9705 - mae: 1.1926 - val_loss: 11.4044 - val_mae: 2.4460\n",
            "Epoch 362/500\n",
            "32/32 [==============================] - 0s 3ms/step - loss: 3.0371 - mae: 1.2154 - val_loss: 11.6092 - val_mae: 2.4980\n",
            "Epoch 363/500\n",
            "32/32 [==============================] - 0s 3ms/step - loss: 2.9758 - mae: 1.2099 - val_loss: 11.4736 - val_mae: 2.4716\n",
            "Epoch 364/500\n",
            "32/32 [==============================] - 0s 3ms/step - loss: 2.9875 - mae: 1.2212 - val_loss: 10.7181 - val_mae: 2.3919\n",
            "Epoch 365/500\n",
            "32/32 [==============================] - 0s 3ms/step - loss: 3.0644 - mae: 1.2162 - val_loss: 11.8792 - val_mae: 2.5883\n",
            "Epoch 366/500\n",
            "32/32 [==============================] - 0s 3ms/step - loss: 3.0359 - mae: 1.2316 - val_loss: 11.6860 - val_mae: 2.4863\n",
            "Epoch 367/500\n",
            "32/32 [==============================] - 0s 3ms/step - loss: 3.0480 - mae: 1.1957 - val_loss: 11.0087 - val_mae: 2.3845\n",
            "Epoch 368/500\n",
            "32/32 [==============================] - 0s 3ms/step - loss: 2.9890 - mae: 1.1836 - val_loss: 11.6683 - val_mae: 2.5156\n",
            "Epoch 369/500\n",
            "32/32 [==============================] - 0s 3ms/step - loss: 2.9725 - mae: 1.2127 - val_loss: 11.2785 - val_mae: 2.4711\n",
            "Epoch 370/500\n",
            "32/32 [==============================] - 0s 3ms/step - loss: 2.9211 - mae: 1.2130 - val_loss: 11.3013 - val_mae: 2.4648\n",
            "Epoch 371/500\n",
            "32/32 [==============================] - 0s 3ms/step - loss: 2.9817 - mae: 1.2303 - val_loss: 11.5735 - val_mae: 2.5263\n",
            "Epoch 372/500\n",
            "32/32 [==============================] - 0s 3ms/step - loss: 2.9526 - mae: 1.2163 - val_loss: 10.4184 - val_mae: 2.2953\n",
            "Epoch 373/500\n",
            "32/32 [==============================] - 0s 3ms/step - loss: 3.0062 - mae: 1.2167 - val_loss: 11.0615 - val_mae: 2.3999\n",
            "Epoch 374/500\n",
            "32/32 [==============================] - 0s 3ms/step - loss: 3.0070 - mae: 1.2197 - val_loss: 10.8546 - val_mae: 2.3965\n",
            "Epoch 375/500\n",
            "32/32 [==============================] - 0s 3ms/step - loss: 2.9485 - mae: 1.1995 - val_loss: 10.4794 - val_mae: 2.2972\n",
            "Epoch 376/500\n",
            "32/32 [==============================] - 0s 3ms/step - loss: 2.9487 - mae: 1.1892 - val_loss: 10.5680 - val_mae: 2.3532\n",
            "Epoch 377/500\n",
            "32/32 [==============================] - 0s 3ms/step - loss: 2.9778 - mae: 1.2104 - val_loss: 10.7305 - val_mae: 2.3238\n",
            "Epoch 378/500\n",
            "32/32 [==============================] - 0s 3ms/step - loss: 2.9784 - mae: 1.2198 - val_loss: 10.9418 - val_mae: 2.4197\n",
            "Epoch 379/500\n",
            "32/32 [==============================] - 0s 3ms/step - loss: 2.9726 - mae: 1.2105 - val_loss: 10.5573 - val_mae: 2.3203\n",
            "Epoch 380/500\n",
            "32/32 [==============================] - 0s 3ms/step - loss: 2.9267 - mae: 1.2130 - val_loss: 11.6073 - val_mae: 2.5375\n",
            "Epoch 381/500\n",
            "32/32 [==============================] - 0s 3ms/step - loss: 3.0826 - mae: 1.2030 - val_loss: 12.6944 - val_mae: 2.6664\n",
            "Epoch 382/500\n",
            "32/32 [==============================] - 0s 3ms/step - loss: 3.0608 - mae: 1.2275 - val_loss: 11.3154 - val_mae: 2.4923\n",
            "Epoch 383/500\n",
            "32/32 [==============================] - 0s 3ms/step - loss: 2.9005 - mae: 1.2055 - val_loss: 12.0014 - val_mae: 2.5533\n",
            "Epoch 384/500\n",
            "32/32 [==============================] - 0s 3ms/step - loss: 2.9737 - mae: 1.2053 - val_loss: 11.3716 - val_mae: 2.4893\n",
            "Epoch 385/500\n",
            "32/32 [==============================] - 0s 3ms/step - loss: 2.9634 - mae: 1.1911 - val_loss: 11.0158 - val_mae: 2.4101\n",
            "Epoch 386/500\n",
            "32/32 [==============================] - 0s 3ms/step - loss: 2.9276 - mae: 1.2049 - val_loss: 10.7679 - val_mae: 2.3615\n",
            "Epoch 387/500\n",
            "32/32 [==============================] - 0s 3ms/step - loss: 2.9390 - mae: 1.2029 - val_loss: 11.4832 - val_mae: 2.4870\n",
            "Epoch 388/500\n",
            "32/32 [==============================] - 0s 3ms/step - loss: 2.8602 - mae: 1.1982 - val_loss: 11.0427 - val_mae: 2.3674\n",
            "Epoch 389/500\n",
            "32/32 [==============================] - 0s 3ms/step - loss: 2.9049 - mae: 1.1886 - val_loss: 11.9887 - val_mae: 2.5686\n",
            "Epoch 390/500\n",
            "32/32 [==============================] - 0s 3ms/step - loss: 3.1729 - mae: 1.2052 - val_loss: 11.7378 - val_mae: 2.5526\n",
            "Epoch 391/500\n",
            "32/32 [==============================] - 0s 3ms/step - loss: 2.8934 - mae: 1.1900 - val_loss: 11.6263 - val_mae: 2.5024\n",
            "Epoch 392/500\n",
            "32/32 [==============================] - 0s 3ms/step - loss: 2.9247 - mae: 1.2064 - val_loss: 11.3833 - val_mae: 2.4747\n",
            "Epoch 393/500\n",
            "32/32 [==============================] - 0s 3ms/step - loss: 2.8702 - mae: 1.1800 - val_loss: 11.4383 - val_mae: 2.4792\n",
            "Epoch 394/500\n",
            "32/32 [==============================] - 0s 3ms/step - loss: 2.9518 - mae: 1.1945 - val_loss: 11.3155 - val_mae: 2.4848\n",
            "Epoch 395/500\n",
            "32/32 [==============================] - 0s 3ms/step - loss: 2.8723 - mae: 1.2001 - val_loss: 11.2644 - val_mae: 2.4242\n",
            "Epoch 396/500\n",
            "32/32 [==============================] - 0s 3ms/step - loss: 2.9401 - mae: 1.1767 - val_loss: 11.2123 - val_mae: 2.3922\n",
            "Epoch 397/500\n",
            "32/32 [==============================] - 0s 3ms/step - loss: 2.8723 - mae: 1.1954 - val_loss: 10.9637 - val_mae: 2.3931\n",
            "Epoch 398/500\n",
            "32/32 [==============================] - 0s 3ms/step - loss: 2.8688 - mae: 1.1735 - val_loss: 11.7603 - val_mae: 2.5456\n",
            "Epoch 399/500\n",
            "32/32 [==============================] - 0s 3ms/step - loss: 2.9785 - mae: 1.1979 - val_loss: 10.8592 - val_mae: 2.3507\n",
            "Epoch 400/500\n",
            "32/32 [==============================] - 0s 3ms/step - loss: 2.8745 - mae: 1.1657 - val_loss: 11.3295 - val_mae: 2.4398\n",
            "Epoch 401/500\n",
            "32/32 [==============================] - 0s 3ms/step - loss: 2.9335 - mae: 1.1912 - val_loss: 11.3504 - val_mae: 2.4491\n",
            "Epoch 402/500\n",
            "32/32 [==============================] - 0s 3ms/step - loss: 3.0423 - mae: 1.1954 - val_loss: 11.4875 - val_mae: 2.5196\n",
            "Epoch 403/500\n",
            "32/32 [==============================] - 0s 3ms/step - loss: 2.7599 - mae: 1.1788 - val_loss: 12.2375 - val_mae: 2.5668\n",
            "Epoch 404/500\n",
            "32/32 [==============================] - 0s 3ms/step - loss: 2.9996 - mae: 1.2087 - val_loss: 11.6794 - val_mae: 2.4856\n",
            "Epoch 405/500\n",
            "32/32 [==============================] - 0s 3ms/step - loss: 2.8196 - mae: 1.1793 - val_loss: 11.4843 - val_mae: 2.4814\n",
            "Epoch 406/500\n",
            "32/32 [==============================] - 0s 3ms/step - loss: 2.8575 - mae: 1.1751 - val_loss: 10.8849 - val_mae: 2.3689\n",
            "Epoch 407/500\n",
            "32/32 [==============================] - 0s 3ms/step - loss: 2.8722 - mae: 1.1945 - val_loss: 10.8496 - val_mae: 2.3980\n",
            "Epoch 408/500\n",
            "32/32 [==============================] - 0s 3ms/step - loss: 2.8691 - mae: 1.1761 - val_loss: 11.0586 - val_mae: 2.3952\n",
            "Epoch 409/500\n",
            "32/32 [==============================] - 0s 3ms/step - loss: 2.7991 - mae: 1.1958 - val_loss: 12.0762 - val_mae: 2.5665\n",
            "Epoch 410/500\n",
            "32/32 [==============================] - 0s 3ms/step - loss: 2.8266 - mae: 1.1735 - val_loss: 11.3813 - val_mae: 2.4787\n",
            "Epoch 411/500\n",
            "32/32 [==============================] - 0s 3ms/step - loss: 2.8998 - mae: 1.1583 - val_loss: 12.0829 - val_mae: 2.5113\n",
            "Epoch 412/500\n",
            "32/32 [==============================] - 0s 3ms/step - loss: 2.7971 - mae: 1.1853 - val_loss: 12.6055 - val_mae: 2.6447\n",
            "Epoch 413/500\n",
            "32/32 [==============================] - 0s 3ms/step - loss: 2.9041 - mae: 1.2152 - val_loss: 11.1551 - val_mae: 2.4144\n",
            "Epoch 414/500\n",
            "32/32 [==============================] - 0s 3ms/step - loss: 2.8163 - mae: 1.2023 - val_loss: 11.0058 - val_mae: 2.4373\n",
            "Epoch 415/500\n",
            "32/32 [==============================] - 0s 3ms/step - loss: 2.8298 - mae: 1.1625 - val_loss: 11.1713 - val_mae: 2.4489\n",
            "Epoch 416/500\n",
            "32/32 [==============================] - 0s 3ms/step - loss: 2.8717 - mae: 1.1829 - val_loss: 11.3748 - val_mae: 2.4574\n",
            "Epoch 417/500\n",
            "32/32 [==============================] - 0s 3ms/step - loss: 2.8750 - mae: 1.1730 - val_loss: 12.6223 - val_mae: 2.6523\n",
            "Epoch 418/500\n",
            "32/32 [==============================] - 0s 3ms/step - loss: 2.9478 - mae: 1.1979 - val_loss: 12.0408 - val_mae: 2.5481\n",
            "Epoch 419/500\n",
            "32/32 [==============================] - 0s 3ms/step - loss: 2.8526 - mae: 1.1628 - val_loss: 10.8943 - val_mae: 2.3570\n",
            "Epoch 420/500\n",
            "32/32 [==============================] - 0s 3ms/step - loss: 2.9635 - mae: 1.2274 - val_loss: 11.2577 - val_mae: 2.4182\n",
            "Epoch 421/500\n",
            "32/32 [==============================] - 0s 3ms/step - loss: 2.8351 - mae: 1.1814 - val_loss: 10.9369 - val_mae: 2.4043\n",
            "Epoch 422/500\n",
            "32/32 [==============================] - 0s 3ms/step - loss: 2.9235 - mae: 1.1839 - val_loss: 10.4923 - val_mae: 2.2884\n",
            "Epoch 423/500\n",
            "32/32 [==============================] - 0s 3ms/step - loss: 2.9518 - mae: 1.1859 - val_loss: 11.5261 - val_mae: 2.4998\n",
            "Epoch 424/500\n",
            "32/32 [==============================] - 0s 3ms/step - loss: 2.8964 - mae: 1.1868 - val_loss: 11.2251 - val_mae: 2.4387\n",
            "Epoch 425/500\n",
            "32/32 [==============================] - 0s 3ms/step - loss: 2.7986 - mae: 1.1925 - val_loss: 11.7888 - val_mae: 2.5014\n",
            "Epoch 426/500\n",
            "32/32 [==============================] - 0s 3ms/step - loss: 2.8850 - mae: 1.1614 - val_loss: 10.9459 - val_mae: 2.4135\n",
            "Epoch 427/500\n",
            "32/32 [==============================] - 0s 3ms/step - loss: 2.8355 - mae: 1.1593 - val_loss: 10.7348 - val_mae: 2.3501\n",
            "Epoch 428/500\n",
            "32/32 [==============================] - 0s 3ms/step - loss: 2.8779 - mae: 1.1694 - val_loss: 11.8586 - val_mae: 2.5270\n",
            "Epoch 429/500\n",
            "32/32 [==============================] - 0s 3ms/step - loss: 2.8094 - mae: 1.1753 - val_loss: 11.2298 - val_mae: 2.4224\n",
            "Epoch 430/500\n",
            "32/32 [==============================] - 0s 3ms/step - loss: 2.8849 - mae: 1.1724 - val_loss: 11.2467 - val_mae: 2.4087\n",
            "Epoch 431/500\n",
            "32/32 [==============================] - 0s 3ms/step - loss: 2.8916 - mae: 1.1891 - val_loss: 11.3371 - val_mae: 2.4251\n",
            "Epoch 432/500\n",
            "32/32 [==============================] - 0s 3ms/step - loss: 2.7396 - mae: 1.1502 - val_loss: 11.3180 - val_mae: 2.4420\n",
            "Epoch 433/500\n",
            "32/32 [==============================] - 0s 3ms/step - loss: 2.8727 - mae: 1.1703 - val_loss: 11.5032 - val_mae: 2.4745\n",
            "Epoch 434/500\n",
            "32/32 [==============================] - 0s 3ms/step - loss: 2.8200 - mae: 1.1547 - val_loss: 11.1020 - val_mae: 2.3860\n",
            "Epoch 435/500\n",
            "32/32 [==============================] - 0s 3ms/step - loss: 3.0693 - mae: 1.1690 - val_loss: 12.1757 - val_mae: 2.5932\n",
            "Epoch 436/500\n",
            "32/32 [==============================] - 0s 3ms/step - loss: 2.7849 - mae: 1.2020 - val_loss: 10.8015 - val_mae: 2.3684\n",
            "Epoch 437/500\n",
            "32/32 [==============================] - 0s 3ms/step - loss: 2.9675 - mae: 1.1849 - val_loss: 11.2041 - val_mae: 2.4195\n",
            "Epoch 438/500\n",
            "32/32 [==============================] - 0s 3ms/step - loss: 2.8312 - mae: 1.2012 - val_loss: 11.1635 - val_mae: 2.4334\n",
            "Epoch 439/500\n",
            "32/32 [==============================] - 0s 3ms/step - loss: 2.8447 - mae: 1.1576 - val_loss: 12.3311 - val_mae: 2.6000\n",
            "Epoch 440/500\n",
            "32/32 [==============================] - 0s 3ms/step - loss: 2.7192 - mae: 1.1580 - val_loss: 10.7618 - val_mae: 2.3289\n",
            "Epoch 441/500\n",
            "32/32 [==============================] - 0s 3ms/step - loss: 2.8520 - mae: 1.1771 - val_loss: 11.4385 - val_mae: 2.4524\n",
            "Epoch 442/500\n",
            "32/32 [==============================] - 0s 3ms/step - loss: 2.8321 - mae: 1.1738 - val_loss: 11.7583 - val_mae: 2.4816\n",
            "Epoch 443/500\n",
            "32/32 [==============================] - 0s 3ms/step - loss: 2.7472 - mae: 1.1359 - val_loss: 11.3591 - val_mae: 2.4328\n",
            "Epoch 444/500\n",
            "32/32 [==============================] - 0s 3ms/step - loss: 2.7743 - mae: 1.1473 - val_loss: 12.4643 - val_mae: 2.6036\n",
            "Epoch 445/500\n",
            "32/32 [==============================] - 0s 3ms/step - loss: 3.5961 - mae: 1.1806 - val_loss: 13.0867 - val_mae: 2.6693\n",
            "Epoch 446/500\n",
            "32/32 [==============================] - 0s 3ms/step - loss: 2.7665 - mae: 1.1370 - val_loss: 11.7741 - val_mae: 2.4940\n",
            "Epoch 447/500\n",
            "32/32 [==============================] - 0s 3ms/step - loss: 2.9634 - mae: 1.1708 - val_loss: 11.1692 - val_mae: 2.3613\n",
            "Epoch 448/500\n",
            "32/32 [==============================] - 0s 3ms/step - loss: 2.8176 - mae: 1.1438 - val_loss: 12.1044 - val_mae: 2.6056\n",
            "Epoch 449/500\n",
            "32/32 [==============================] - 0s 3ms/step - loss: 2.7803 - mae: 1.1579 - val_loss: 11.4801 - val_mae: 2.4934\n",
            "Epoch 450/500\n",
            "32/32 [==============================] - 0s 3ms/step - loss: 2.7929 - mae: 1.1633 - val_loss: 11.5870 - val_mae: 2.4752\n",
            "Epoch 451/500\n",
            "32/32 [==============================] - 0s 3ms/step - loss: 2.7617 - mae: 1.0985 - val_loss: 12.1580 - val_mae: 2.5406\n",
            "Epoch 452/500\n",
            "32/32 [==============================] - 0s 3ms/step - loss: 2.8077 - mae: 1.1484 - val_loss: 11.6595 - val_mae: 2.5056\n",
            "Epoch 453/500\n",
            "32/32 [==============================] - 0s 3ms/step - loss: 2.7973 - mae: 1.1567 - val_loss: 10.6631 - val_mae: 2.3197\n",
            "Epoch 454/500\n",
            "32/32 [==============================] - 0s 3ms/step - loss: 2.7805 - mae: 1.1901 - val_loss: 11.3925 - val_mae: 2.4363\n",
            "Epoch 455/500\n",
            "32/32 [==============================] - 0s 3ms/step - loss: 2.8977 - mae: 1.1588 - val_loss: 11.8703 - val_mae: 2.5534\n",
            "Epoch 456/500\n",
            "32/32 [==============================] - 0s 3ms/step - loss: 2.8772 - mae: 1.1782 - val_loss: 11.8856 - val_mae: 2.5292\n",
            "Epoch 457/500\n",
            "32/32 [==============================] - 0s 3ms/step - loss: 2.7650 - mae: 1.1515 - val_loss: 12.4171 - val_mae: 2.6186\n",
            "Epoch 458/500\n",
            "32/32 [==============================] - 0s 3ms/step - loss: 2.7207 - mae: 1.1705 - val_loss: 12.4101 - val_mae: 2.5799\n",
            "Epoch 459/500\n",
            "32/32 [==============================] - 0s 3ms/step - loss: 2.7965 - mae: 1.1476 - val_loss: 12.2526 - val_mae: 2.5210\n",
            "Epoch 460/500\n",
            "32/32 [==============================] - 0s 3ms/step - loss: 2.9819 - mae: 1.1399 - val_loss: 11.1579 - val_mae: 2.4022\n",
            "Epoch 461/500\n",
            "32/32 [==============================] - 0s 3ms/step - loss: 2.7477 - mae: 1.1488 - val_loss: 11.6164 - val_mae: 2.4942\n",
            "Epoch 462/500\n",
            "32/32 [==============================] - 0s 3ms/step - loss: 2.7565 - mae: 1.1838 - val_loss: 11.2285 - val_mae: 2.4157\n",
            "Epoch 463/500\n",
            "32/32 [==============================] - 0s 3ms/step - loss: 2.7469 - mae: 1.1492 - val_loss: 11.2215 - val_mae: 2.4519\n",
            "Epoch 464/500\n",
            "32/32 [==============================] - 0s 3ms/step - loss: 2.7417 - mae: 1.1604 - val_loss: 11.3029 - val_mae: 2.3997\n",
            "Epoch 465/500\n",
            "32/32 [==============================] - 0s 3ms/step - loss: 2.7068 - mae: 1.1531 - val_loss: 11.9244 - val_mae: 2.4854\n",
            "Epoch 466/500\n",
            "32/32 [==============================] - 0s 3ms/step - loss: 2.7578 - mae: 1.1718 - val_loss: 11.8109 - val_mae: 2.5087\n",
            "Epoch 467/500\n",
            "32/32 [==============================] - 0s 3ms/step - loss: 2.6794 - mae: 1.1421 - val_loss: 10.8835 - val_mae: 2.3504\n",
            "Epoch 468/500\n",
            "32/32 [==============================] - 0s 3ms/step - loss: 2.7561 - mae: 1.1515 - val_loss: 11.4914 - val_mae: 2.4496\n",
            "Epoch 469/500\n",
            "32/32 [==============================] - 0s 3ms/step - loss: 2.7624 - mae: 1.1591 - val_loss: 11.2436 - val_mae: 2.3855\n",
            "Epoch 470/500\n",
            "32/32 [==============================] - 0s 3ms/step - loss: 2.8350 - mae: 1.1679 - val_loss: 12.2659 - val_mae: 2.5195\n",
            "Epoch 471/500\n",
            "32/32 [==============================] - 0s 3ms/step - loss: 2.6838 - mae: 1.1351 - val_loss: 12.7199 - val_mae: 2.5778\n",
            "Epoch 472/500\n",
            "32/32 [==============================] - 0s 3ms/step - loss: 2.8318 - mae: 1.1648 - val_loss: 12.2593 - val_mae: 2.5649\n",
            "Epoch 473/500\n",
            "32/32 [==============================] - 0s 3ms/step - loss: 2.7284 - mae: 1.1578 - val_loss: 11.3147 - val_mae: 2.4287\n",
            "Epoch 474/500\n",
            "32/32 [==============================] - 0s 3ms/step - loss: 2.6375 - mae: 1.1182 - val_loss: 11.4186 - val_mae: 2.4599\n",
            "Epoch 475/500\n",
            "32/32 [==============================] - 0s 3ms/step - loss: 2.9514 - mae: 1.1583 - val_loss: 11.3173 - val_mae: 2.4125\n",
            "Epoch 476/500\n",
            "32/32 [==============================] - 0s 3ms/step - loss: 2.7370 - mae: 1.1449 - val_loss: 12.0221 - val_mae: 2.5082\n",
            "Epoch 477/500\n",
            "32/32 [==============================] - 0s 3ms/step - loss: 2.6765 - mae: 1.1447 - val_loss: 12.8156 - val_mae: 2.6101\n",
            "Epoch 478/500\n",
            "32/32 [==============================] - 0s 3ms/step - loss: 2.7485 - mae: 1.1536 - val_loss: 11.2555 - val_mae: 2.4127\n",
            "Epoch 479/500\n",
            "32/32 [==============================] - 0s 3ms/step - loss: 2.7264 - mae: 1.1556 - val_loss: 11.1052 - val_mae: 2.4059\n",
            "Epoch 480/500\n",
            "32/32 [==============================] - 0s 3ms/step - loss: 2.8405 - mae: 1.1530 - val_loss: 11.2735 - val_mae: 2.3904\n",
            "Epoch 481/500\n",
            "32/32 [==============================] - 0s 3ms/step - loss: 2.8013 - mae: 1.1457 - val_loss: 11.2755 - val_mae: 2.3909\n",
            "Epoch 482/500\n",
            "32/32 [==============================] - 0s 3ms/step - loss: 2.7410 - mae: 1.1426 - val_loss: 13.0615 - val_mae: 2.6378\n",
            "Epoch 483/500\n",
            "32/32 [==============================] - 0s 3ms/step - loss: 2.6571 - mae: 1.1646 - val_loss: 12.2457 - val_mae: 2.5152\n",
            "Epoch 484/500\n",
            "32/32 [==============================] - 0s 3ms/step - loss: 2.5995 - mae: 1.0979 - val_loss: 11.9115 - val_mae: 2.4865\n",
            "Epoch 485/500\n",
            "32/32 [==============================] - 0s 3ms/step - loss: 2.7112 - mae: 1.1618 - val_loss: 12.0072 - val_mae: 2.5563\n",
            "Epoch 486/500\n",
            "32/32 [==============================] - 0s 3ms/step - loss: 2.7411 - mae: 1.1469 - val_loss: 12.1539 - val_mae: 2.5042\n",
            "Epoch 487/500\n",
            "32/32 [==============================] - 0s 3ms/step - loss: 2.6895 - mae: 1.1566 - val_loss: 11.3272 - val_mae: 2.4048\n",
            "Epoch 488/500\n",
            "32/32 [==============================] - 0s 3ms/step - loss: 2.7287 - mae: 1.1197 - val_loss: 11.3274 - val_mae: 2.4267\n",
            "Epoch 489/500\n",
            "32/32 [==============================] - 0s 3ms/step - loss: 2.6628 - mae: 1.1268 - val_loss: 12.6050 - val_mae: 2.6060\n",
            "Epoch 490/500\n",
            "32/32 [==============================] - 0s 3ms/step - loss: 2.7275 - mae: 1.1612 - val_loss: 11.5885 - val_mae: 2.4619\n",
            "Epoch 491/500\n",
            "32/32 [==============================] - 0s 3ms/step - loss: 2.7472 - mae: 1.1442 - val_loss: 12.9118 - val_mae: 2.6105\n",
            "Epoch 492/500\n",
            "32/32 [==============================] - 0s 3ms/step - loss: 2.6826 - mae: 1.1316 - val_loss: 11.2972 - val_mae: 2.4266\n",
            "Epoch 493/500\n",
            "32/32 [==============================] - 0s 3ms/step - loss: 2.7006 - mae: 1.1406 - val_loss: 12.9848 - val_mae: 2.6360\n",
            "Epoch 494/500\n",
            "32/32 [==============================] - 0s 3ms/step - loss: 2.7060 - mae: 1.1330 - val_loss: 12.5500 - val_mae: 2.5661\n",
            "Epoch 495/500\n",
            "32/32 [==============================] - 0s 3ms/step - loss: 2.6746 - mae: 1.1331 - val_loss: 12.4557 - val_mae: 2.5713\n",
            "Epoch 496/500\n",
            "32/32 [==============================] - 0s 3ms/step - loss: 2.5638 - mae: 1.1265 - val_loss: 12.1366 - val_mae: 2.5093\n",
            "Epoch 497/500\n",
            "32/32 [==============================] - 0s 3ms/step - loss: 2.7480 - mae: 1.1107 - val_loss: 11.2616 - val_mae: 2.4186\n",
            "Epoch 498/500\n",
            "32/32 [==============================] - 0s 3ms/step - loss: 2.8324 - mae: 1.1335 - val_loss: 11.1915 - val_mae: 2.3767\n",
            "Epoch 499/500\n",
            "32/32 [==============================] - 0s 3ms/step - loss: 2.6915 - mae: 1.1509 - val_loss: 11.3637 - val_mae: 2.3834\n",
            "Epoch 500/500\n",
            "32/32 [==============================] - 0s 3ms/step - loss: 2.6331 - mae: 1.1374 - val_loss: 11.7445 - val_mae: 2.4622\n"
          ],
          "name": "stdout"
        }
      ]
    },
    {
      "cell_type": "code",
      "metadata": {
        "id": "T0mfozSscm2u",
        "colab_type": "code",
        "outputId": "78611f51-db90-47c4-8355-e8721c53cce5",
        "colab": {
          "base_uri": "https://localhost:8080/",
          "height": 34
        }
      },
      "source": [
        "history_dict = historyc.history\n",
        "history_dict.keys()"
      ],
      "execution_count": 0,
      "outputs": [
        {
          "output_type": "execute_result",
          "data": {
            "text/plain": [
              "dict_keys(['loss', 'mae', 'val_loss', 'val_mae'])"
            ]
          },
          "metadata": {
            "tags": []
          },
          "execution_count": 46
        }
      ]
    },
    {
      "cell_type": "code",
      "metadata": {
        "id": "Jg0o2OdfcrJr",
        "colab_type": "code",
        "outputId": "b1187bab-638c-43b7-a6af-882d4cd34225",
        "colab": {
          "base_uri": "https://localhost:8080/",
          "height": 295
        }
      },
      "source": [
        "mae = history_dict['mae']\n",
        "val_mae = history_dict['val_mae']\n",
        "loss = history_dict['loss']\n",
        "val_loss = history_dict['val_loss']\n",
        "\n",
        "epochs = range(1, len(mae) + 1)\n",
        "\n",
        "plt.plot(epochs, loss, 'r', label='Training loss')\n",
        "plt.title('Training loss')\n",
        "plt.xlabel('Epochs')\n",
        "plt.ylabel('Loss')\n",
        "plt.legend()\n",
        "\n",
        "plt.show()"
      ],
      "execution_count": 0,
      "outputs": [
        {
          "output_type": "display_data",
          "data": {
            "image/png": "[encoded data removed]",
            "text/plain": [
              "<Figure size 432x288 with 1 Axes>"
            ]
          },
          "metadata": {
            "tags": [],
            "needs_background": "light"
          }
        }
      ]
    },
    {
      "cell_type": "code",
      "metadata": {
        "id": "-JieE9PAcrGL",
        "colab_type": "code",
        "outputId": "7a1c003a-9328-439f-b286-1bac5ca5966b",
        "colab": {
          "base_uri": "https://localhost:8080/",
          "height": 295
        }
      },
      "source": [
        "plt.plot(epochs, val_loss, 'b', label='Validation loss')\n",
        "plt.title('Validation loss')\n",
        "plt.xlabel('Epochs')\n",
        "plt.ylabel('Loss')\n",
        "plt.legend()\n",
        "\n",
        "plt.show()"
      ],
      "execution_count": 0,
      "outputs": [
        {
          "output_type": "display_data",
          "data": {
            "image/png": "[encoded data removed]",
            "text/plain": [
              "<Figure size 432x288 with 1 Axes>"
            ]
          },
          "metadata": {
            "tags": [],
            "needs_background": "light"
          }
        }
      ]
    },
    {
      "cell_type": "code",
      "metadata": {
        "id": "EeWMVfDdqsTg",
        "colab_type": "code",
        "outputId": "e4d2e609-a38e-4828-e552-8589007e81d3",
        "colab": {
          "base_uri": "https://localhost:8080/",
          "height": 295
        }
      },
      "source": [
        "plt.clf()   # clear figure\n",
        "mae_values = history_dict['mae']\n",
        "val_mae_values = history_dict['val_mae']\n",
        "\n",
        "plt.plot(epochs, mae, 'r', label='Training mae')\n",
        "plt.title('Training MAE')\n",
        "plt.xlabel('Epochs')\n",
        "plt.ylabel('MAE')\n",
        "plt.legend()\n",
        "\n",
        "plt.show()"
      ],
      "execution_count": 0,
      "outputs": [
        {
          "output_type": "display_data",
          "data": {
            "image/png": "[encoded data removed]",
            "text/plain": [
              "<Figure size 432x288 with 1 Axes>"
            ]
          },
          "metadata": {
            "tags": [],
            "needs_background": "light"
          }
        }
      ]
    },
    {
      "cell_type": "code",
      "metadata": {
        "id": "b6x3KUeaqr20",
        "colab_type": "code",
        "outputId": "f4b7a88c-226f-4531-f73d-ce4f86d8bfb5",
        "colab": {
          "base_uri": "https://localhost:8080/",
          "height": 295
        }
      },
      "source": [
        "plt.plot(epochs, val_mae, 'b', label='Validation mae')\n",
        "plt.title('Validation MAE')\n",
        "plt.xlabel('Epochs')\n",
        "plt.ylabel('MAE')\n",
        "plt.legend()\n",
        "\n",
        "plt.show()"
      ],
      "execution_count": 0,
      "outputs": [
        {
          "output_type": "display_data",
          "data": {
            "image/png": "[encoded data removed]",
            "text/plain": [
              "<Figure size 432x288 with 1 Axes>"
            ]
          },
          "metadata": {
            "tags": [],
            "needs_background": "light"
          }
        }
      ]
    },
    {
      "cell_type": "markdown",
      "metadata": {
        "id": "y70rNXYuxI6M",
        "colab_type": "text"
      },
      "source": [
        "#6)"
      ]
    },
    {
      "cell_type": "code",
      "metadata": {
        "id": "N9xHRrwCeCOP",
        "colab_type": "code",
        "outputId": "e50d98e2-1302-4e5e-9979-6cc8fa67113c",
        "colab": {
          "base_uri": "https://localhost:8080/",
          "height": 34
        }
      },
      "source": [
        "modelc.fit(Xtrain, ytrain,\n",
        "          epochs=15, batch_size=8, verbose=0)\n",
        "test_mse_score, test_mae_score = modelc.evaluate(Xtest, ytest)"
      ],
      "execution_count": 0,
      "outputs": [
        {
          "output_type": "stream",
          "text": [
            "3/3 [==============================] - 0s 969us/step - loss: 9.1743 - mae: 2.0432\n"
          ],
          "name": "stdout"
        }
      ]
    },
    {
      "cell_type": "code",
      "metadata": {
        "id": "ACNE1N1meN3C",
        "colab_type": "code",
        "outputId": "33816a48-09c0-43d5-e6a5-ed7b75f0e098",
        "colab": {
          "base_uri": "https://localhost:8080/",
          "height": 34
        }
      },
      "source": [
        "test_mae_score"
      ],
      "execution_count": 0,
      "outputs": [
        {
          "output_type": "execute_result",
          "data": {
            "text/plain": [
              "2.0431718826293945"
            ]
          },
          "metadata": {
            "tags": []
          },
          "execution_count": 52
        }
      ]
    },
    {
      "cell_type": "code",
      "metadata": {
        "id": "nAhbs9BKehVy",
        "colab_type": "code",
        "outputId": "17818273-90d2-4b37-e9b1-a893e280b659",
        "colab": {
          "base_uri": "https://localhost:8080/",
          "height": 34
        }
      },
      "source": [
        "modelc.fit(Xtrain, ytrain,\n",
        "          epochs=20, batch_size=8, verbose=0)\n",
        "test_mse_score, test_mae_score = modelc.evaluate(Xtest, ytest)"
      ],
      "execution_count": 0,
      "outputs": [
        {
          "output_type": "stream",
          "text": [
            "3/3 [==============================] - 0s 1ms/step - loss: 8.8802 - mae: 1.9626\n"
          ],
          "name": "stdout"
        }
      ]
    },
    {
      "cell_type": "code",
      "metadata": {
        "id": "WZs2w0CGq-ux",
        "colab_type": "code",
        "outputId": "2a020888-3072-4e21-d10d-c146d7598868",
        "colab": {
          "base_uri": "https://localhost:8080/",
          "height": 34
        }
      },
      "source": [
        "test_mae_score"
      ],
      "execution_count": 0,
      "outputs": [
        {
          "output_type": "execute_result",
          "data": {
            "text/plain": [
              "1.9626014232635498"
            ]
          },
          "metadata": {
            "tags": []
          },
          "execution_count": 54
        }
      ]
    },
    {
      "cell_type": "code",
      "metadata": {
        "id": "sswR4oRQrh0_",
        "colab_type": "code",
        "outputId": "9b05e019-b0f6-4760-c126-a61408bfcb27",
        "colab": {
          "base_uri": "https://localhost:8080/",
          "height": 34
        }
      },
      "source": [
        "modelc.fit(Xtrain, ytrain,\n",
        "          epochs=18, batch_size=8, verbose=0)\n",
        "test_mse_score, test_mae_score = modelc.evaluate(Xtest, ytest)"
      ],
      "execution_count": 0,
      "outputs": [
        {
          "output_type": "stream",
          "text": [
            "3/3 [==============================] - 0s 917us/step - loss: 9.4565 - mae: 1.9938\n"
          ],
          "name": "stdout"
        }
      ]
    },
    {
      "cell_type": "code",
      "metadata": {
        "id": "qIWNM-iOswhE",
        "colab_type": "code",
        "outputId": "bf767039-6997-4e04-b1eb-d5c8040c61de",
        "colab": {
          "base_uri": "https://localhost:8080/",
          "height": 34
        }
      },
      "source": [
        "test_mae_score"
      ],
      "execution_count": 0,
      "outputs": [
        {
          "output_type": "execute_result",
          "data": {
            "text/plain": [
              "1.993788719177246"
            ]
          },
          "metadata": {
            "tags": []
          },
          "execution_count": 56
        }
      ]
    }
  ]
}